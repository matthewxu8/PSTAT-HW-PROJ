{
 "cells": [
  {
   "cell_type": "markdown",
   "metadata": {
    "id": "DoO-oCQXottz"
   },
   "source": [
    "# Homework 1\n",
    "\n",
    "Matthew Xu \n",
    "5752811\n",
    "\n",
    "**DUE OCT 19th by 11:59PM**\n",
    "\n",
    "Homework 1 is done in Jupyter Notebook to give you a chance to familiarize yourself to this powerful tool for data analysis. \n",
    "\n",
    "In Jupyter Notebook, codes and texts are executed in cells. Texts are written in Markdown cell, as you can see in the homework instructions below. Codes are written in code cells. Cells are run one at a time. You can change the cell type by navigating to Cell -> Cell Type.\n",
    "\n",
    "There are spaces for you to enter your answers to the questions, either in code or text. Feel free to add more cells if you need (likely).\n",
    "\n",
    "In many parts, some Scikit-learn functions and classes have already been imported to give you leads on what you may need to use. You still need to refer to the Scikit-learn documentation to learn how the classes and methods work. You can use other publicly available libraries and packages if you want, as long as they finish the work. \n",
    "\n",
    "You are expected to turn in a **pdf version** of this notebook with all your **codes, results, and figures**. Make sure the figures and results are visible as you want them to appear in the pdf before turning it in. Please do not modify the instructions as doing so will limit our ability to follow and grade your answers."
   ]
  },
  {
   "cell_type": "markdown",
   "metadata": {
    "id": "9QnIt4o0qmGP"
   },
   "source": [
    "## Problem 1\n",
    "\n",
    "Increase your familiarity with Github. This problem needs to be finished with a partner. Follow these steps to finish the problem:\n",
    "\n",
    "1.   Create a github account.\n",
    "2.   Create a public repository and push a helloworld.py file.\n",
    "3.   Person $A$ forks Person $B$'s repo and modifies the file, then pushes to their own fork and finally creates a pull request for person B to merge.\n",
    "4.   Person $B$ reviews and merges the pull request.\n",
    "5.   Do the same for $A$ and $B$ reversed.\n",
    "\n",
    "Provide the links to your repo and your partner's repo."
   ]
  },
  {
   "cell_type": "code",
   "execution_count": null,
   "metadata": {},
   "outputs": [],
   "source": [
    "https://github.com/matthewxu8\n",
    "https://github.com/matthewxu8/PSTAT190DD_HW1\n",
    "https://github.com/matthewxu8/hw1_190dd"
   ]
  },
  {
   "cell_type": "code",
   "execution_count": 1,
   "metadata": {},
   "outputs": [],
   "source": [
    "import matplotlib.pyplot as plt\n",
    "import pandas as pd\n",
    "import numpy as np\n",
    "from sklearn.linear_model import LinearRegression\n",
    "from sklearn import linear_model"
   ]
  },
  {
   "cell_type": "markdown",
   "metadata": {
    "id": "qKgBcjsyott0"
   },
   "source": [
    "## Problem 2\n",
    "\n",
    "In this problem, you will consider solving the least-squared problem in two different approaches, one using Gradient Descent and the other using the formula. After that, you will compare the results you get from both approaches."
   ]
  },
  {
   "cell_type": "markdown",
   "metadata": {
    "id": "afphJhGpott1"
   },
   "source": [
    "a) Load the 1-D data and the labels from **'linear_regression.csv'**. The first column contains the data values and the second column contains the labels. Store the data in a variable ***X***. Similarly, store the labels in a variable ***y***."
   ]
  },
  {
   "cell_type": "code",
   "execution_count": 2,
   "metadata": {
    "id": "nDFz3_7oott1"
   },
   "outputs": [],
   "source": [
    "import pandas as pd\n",
    "\n",
    "#read in csv file\n",
    "df = pd.read_csv('linear_regression.csv', header = None)\n",
    "\n",
    "#import x values and labels as y value\n",
    "x = df[0].to_numpy()\n",
    "y = df[1].to_numpy()"
   ]
  },
  {
   "cell_type": "markdown",
   "metadata": {
    "id": "3SVBu5DHott3"
   },
   "source": [
    "b) Fit a linear regression model, in the form $Ax + b$, using the formula. Print out the parameters $A$ and $b$."
   ]
  },
  {
   "cell_type": "code",
   "execution_count": 3,
   "metadata": {
    "id": "9Fy8FHUHott4"
   },
   "outputs": [
    {
     "name": "stdout",
     "output_type": "stream",
     "text": [
      "Parmeter A:  [[7.526347]]\n",
      "Parmeter B:  [0.20313216]\n"
     ]
    }
   ],
   "source": [
    "#instance of linear regression object\n",
    "reg = linear_model.LinearRegression()\n",
    "\n",
    "#fit linear model to data\n",
    "reg.fit(x[:, np.newaxis], y[:, np.newaxis])\n",
    "\n",
    "#print parameters\n",
    "print('Parmeter A: ', reg.coef_)\n",
    "print('Parmeter B: ', reg.intercept_)\n"
   ]
  },
  {
   "cell_type": "markdown",
   "metadata": {
    "id": "ljnZQZS6ott5"
   },
   "source": [
    "Visualize your result in a 2-D plot. Your plot should show the data points and the line $Ax + b$."
   ]
  },
  {
   "cell_type": "code",
   "execution_count": 6,
   "metadata": {
    "id": "8ayp0_6aott6"
   },
   "outputs": [
    {
     "data": {
      "text/plain": [
       "<function matplotlib.pyplot.show(*args, **kw)>"
      ]
     },
     "execution_count": 6,
     "metadata": {},
     "output_type": "execute_result"
    },
    {
     "data": {
      "image/png": "[encoded data removed]",
      "text/plain": [
       "<Figure size 432x288 with 1 Axes>"
      ]
     },
     "metadata": {
      "needs_background": "light"
     },
     "output_type": "display_data"
    }
   ],
   "source": [
    "#linear regression fit\n",
    "model = LinearRegression(fit_intercept=True)\n",
    "\n",
    "model.fit(x[:, np.newaxis], y)\n",
    "\n",
    "#create x values, using model predict y values for line\n",
    "xfit = np.linspace(0, 1.5, 1000)\n",
    "yfit = model.predict(xfit[:, np.newaxis])\n",
    "\n",
    "plt.scatter(x, y)\n",
    "plt.plot(xfit, yfit);\n",
    "plt.show"
   ]
  },
  {
   "cell_type": "markdown",
   "metadata": {
    "id": "j45fNRvUott8"
   },
   "source": [
    "c) Now, fit a linear regression model using Gradient Descent. Print out the parameters $A$ and $b$."
   ]
  },
  {
   "cell_type": "code",
   "execution_count": 7,
   "metadata": {
    "id": "0yeBTn96ott8"
   },
   "outputs": [
    {
     "name": "stdout",
     "output_type": "stream",
     "text": [
      "Parmeter A:  7.526346995919931\n",
      "Parmeter B:  0.20313216365233178\n"
     ]
    }
   ],
   "source": [
    "# Building the model\n",
    "slope = 0\n",
    "intercept = 0\n",
    "\n",
    "learn_rate = 0.001  # The learning Rate\n",
    "epochs = 1000000  # The number of iterations to perform gradient descent\n",
    "\n",
    "n = float(len(x)) # Number of elements in X\n",
    "\n",
    "# Performing Gradient Descent \n",
    "for i in range(epochs): \n",
    "    Y_pred = slope*x + intercept  # The current predicted value of Y\n",
    "    D_m = (-2/n) * sum(x * (y - Y_pred))  # Derivative wrt m\n",
    "    D_c = (-2/n) * sum(y - Y_pred)  # Derivative wrt c\n",
    "    slope = slope - learn_rate * D_m  # Update m\n",
    "    intercept = intercept - learn_rate * D_c  # Update c\n",
    "    \n",
    "print('Parmeter A: ', slope)\n",
    "print('Parmeter B: ', intercept)"
   ]
  },
  {
   "cell_type": "markdown",
   "metadata": {
    "id": "AFyYnKvLott-"
   },
   "source": [
    "Visualize your result in a 2-D plot similar to that in part **b**. Compare your results from both parts.\n",
    "\n",
    "As seen in both plots, the lines are very similar with each iteration of gradeitn descent bringing paramaters a and b of both plots closer together."
   ]
  },
  {
   "cell_type": "code",
   "execution_count": 14,
   "metadata": {
    "id": "sv2sHAXVott-"
   },
   "outputs": [
    {
     "data": {
      "image/png": "[encoded data removed]",
      "text/plain": [
       "<Figure size 432x288 with 1 Axes>"
      ]
     },
     "metadata": {
      "needs_background": "light"
     },
     "output_type": "display_data"
    }
   ],
   "source": [
    "Y_pred = slope*x + intercept\n",
    "\n",
    "plt.scatter(x, y) \n",
    "plt.plot([min(x), max(x)], [min(Y_pred), max(Y_pred)], color='red')  # regression line\n",
    "plt.show()"
   ]
  },
  {
   "cell_type": "markdown",
   "metadata": {
    "id": "pJjfeIAuotuA"
   },
   "source": [
    "## Problem 3\n",
    "\n",
    "In this problem, you will train classifiers using two widely used algorithms, Support Vector Machine (SVM) and Random Forest (RF). You will train and fine-tune each model using cross-validation (CV). After that, you will compare the performance of SVM and RF for this problem."
   ]
  },
  {
   "cell_type": "markdown",
   "metadata": {
    "id": "34BoVBR3otuA"
   },
   "source": [
    "a) A 13-D dataset with labels is given in **'wine.csv'**. The last column contains the labels. Store the data and the labels in variables ***X*** and ***y***, respectively."
   ]
  },
  {
   "cell_type": "code",
   "execution_count": 10,
   "metadata": {
    "id": "SRn_EaZqotuB"
   },
   "outputs": [],
   "source": [
    "#read in csv file\n",
    "data = pd.read_csv('wine.csv', header = None)\n",
    "\n",
    "#import X values and labels as y value\n",
    "X = data[data.columns[0:13]].to_numpy()\n",
    "Y = data[13].to_numpy()"
   ]
  },
  {
   "cell_type": "markdown",
   "metadata": {
    "id": "XhA84qMtotuD"
   },
   "source": [
    "Split the data into a train set and a test set. The size of the train set is 90% of the dataset."
   ]
  },
  {
   "cell_type": "code",
   "execution_count": 11,
   "metadata": {
    "id": "w-rLDnz2otuD"
   },
   "outputs": [],
   "source": [
    "from sklearn.model_selection import train_test_split\n",
    "\n",
    "#trainw ith 90% of dataset\n",
    "X_train, X_test, y_train, y_test = train_test_split(X, Y, test_size = 0.1, random_state=42)\n"
   ]
  },
  {
   "cell_type": "markdown",
   "metadata": {
    "id": "XzmsEV8HotuF"
   },
   "source": [
    "b) Find a good SVM model by performing 10-fold CV on the train set. Try different set of model parameters and record the resulting model performance during CV. Print out your best model's parameters and its performance (accuracy)."
   ]
  },
  {
   "cell_type": "code",
   "execution_count": 14,
   "metadata": {
    "id": "UkOVB_IKotuF"
   },
   "outputs": [
    {
     "name": "stdout",
     "output_type": "stream",
     "text": [
      "# Tuning hyper-parameters for precision\n",
      "\n",
      "Best parameters set found on development GridSearchCV set:\n",
      "\n",
      "{'C': 10, 'kernel': 'linear'}\n",
      "\n",
      "Best Score found on development GridSearchCV set:\n",
      "\n",
      "0.9629761904761907\n",
      "\n"
     ]
    }
   ],
   "source": [
    "# A few methods to get you started with CV. \n",
    "# You are encouraged to look into the model_selection module of Scikit-learn to find tools that best fit your need.\n",
    "from sklearn.model_selection import StratifiedKFold, GridSearchCV, ParameterGrid\n",
    "from sklearn.svm import SVC\n",
    "from sklearn.model_selection import cross_val_score\n",
    "\n",
    "# Set the parameters by cross-validation to try\n",
    "tuned_parameters = [{'kernel': ['rbf'], 'gamma': [1e-3, 1e-4],\n",
    "                     'C': [1, 10, 100, 1000]},\n",
    "                    {'kernel': ['linear'], 'C': [1, 10, 100, 1000]}]\n",
    "\n",
    "print(\"# Tuning hyper-parameters for precision\")\n",
    "print()\n",
    "\n",
    "#10 fold Cross validation on above parameters\n",
    "clf = GridSearchCV(SVC(), tuned_parameters, cv = 10, scoring='precision_macro')\n",
    "#fit model to X_train, y_train\n",
    "clf.fit(X_train, y_train)\n",
    "\n",
    "#best score and best parameters\n",
    "print(\"Best parameters set found on development GridSearchCV set:\")\n",
    "print(clf.best_params_)\n",
    "print(\"Best Score found on development GridSearchCV set:\")\n",
    "print(clf.best_score_)\n"
   ]
  },
  {
   "cell_type": "markdown",
   "metadata": {
    "id": "QftYtzFW-i0E"
   },
   "source": [
    "Now train your best SVM model on the whole train dataset and test it on the test set. Print out your model's performance."
   ]
  },
  {
   "cell_type": "code",
   "execution_count": 42,
   "metadata": {
    "id": "9qCn-sLV_Zhc"
   },
   "outputs": [
    {
     "name": "stdout",
     "output_type": "stream",
     "text": [
      "1.0\n"
     ]
    }
   ],
   "source": [
    "from sklearn.metrics import accuracy_score\n",
    "\n",
    "#create best model from above outputs\n",
    "clf_best = SVC(kernel = 'linear', C = 10)\n",
    "\n",
    "#train best model to training sets\n",
    "clf_best.fit(X_train, y_train)\n",
    "\n",
    "#predict labels based on best model and test data\n",
    "Y_predictions = clf_best.predict(X_test) \n",
    " \n",
    "#compare to true label test data\n",
    "print(accuracy_score(Y_predictions, y_test)) "
   ]
  },
  {
   "cell_type": "markdown",
   "metadata": {
    "id": "mTsl_Cc8otuH"
   },
   "source": [
    "c) Similarly, find a good RF model by performing 10-fold CV on the train set. Print out your best model's parameters and its performance (accuracy)."
   ]
  },
  {
   "cell_type": "code",
   "execution_count": 51,
   "metadata": {
    "id": "bzWFF9MvotuH"
   },
   "outputs": [
    {
     "name": "stdout",
     "output_type": "stream",
     "text": [
      "{'bootstrap': True, 'max_depth': 20, 'max_features': 3, 'min_samples_leaf': 3, 'min_samples_split': 12, 'n_estimators': 20}\n"
     ]
    },
    {
     "data": {
      "text/plain": [
       "0.9875"
      ]
     },
     "execution_count": 51,
     "metadata": {},
     "output_type": "execute_result"
    }
   ],
   "source": [
    "from sklearn.ensemble import RandomForestClassifier\n",
    "from sklearn.model_selection import RandomizedSearchCV\n",
    "\n",
    "#create random forest classifier\n",
    "rf = RandomForestClassifier()\n",
    "\n",
    "#tuning paramaters to test for randomforest\n",
    "param_grid = {\n",
    "    'bootstrap': [True],\n",
    "    'max_depth': [20, 30, 40, 50],\n",
    "    'max_features': [2, 3],\n",
    "    'min_samples_leaf': [3, 4, 5],\n",
    "    'min_samples_split': [8, 10, 12],\n",
    "    'n_estimators': [5, 10, 15, 20]\n",
    "}\n",
    "\n",
    "#grid search using the above paramater and model\n",
    "grid_search = GridSearchCV(estimator = rf, param_grid = param_grid, \n",
    "                          cv = 10)\n",
    "#fit mdoel to x_train and y_train\n",
    "grid_search.fit(X_train, y_train)\n",
    "\n",
    "print(\"Best parameters set found on development GridSearchCV set:\")\n",
    "print(grid_search.best_params_)\n",
    "print(\"Best Score found on development GridSearchCV set:\")\n",
    "print(grid_search.best_score_)\n"
   ]
  },
  {
   "cell_type": "markdown",
   "metadata": {
    "id": "5mfjPPRK_do8"
   },
   "source": [
    "Test your best RF model on the test set. Print out your model's performance."
   ]
  },
  {
   "cell_type": "code",
   "execution_count": 52,
   "metadata": {
    "id": "35f4P7h2_w61"
   },
   "outputs": [
    {
     "name": "stdout",
     "output_type": "stream",
     "text": [
      "1.0\n"
     ]
    }
   ],
   "source": [
    "from sklearn.metrics import accuracy_score\n",
    "\n",
    "#create best model using best parameter output\n",
    "forest_best = RandomForestClassifier(bootstrap = True, max_depth = 20, \n",
    "                                     max_features = 3, min_samples_leaf = 3, \n",
    "                                     min_samples_split = 12, n_estimators = 20)\n",
    "\n",
    "#fit best model to x_train and y_train data\n",
    "forest_best.fit(X_train, y_train)\n",
    "\n",
    "#predit using best model on x_test data\n",
    "Y_predictions1 = forest_best.predict(X_test) \n",
    "\n",
    "#compare label test data and predicted\n",
    "print(accuracy_score(Y_predictions1, y_test)) "
   ]
  },
  {
   "cell_type": "markdown",
   "metadata": {
    "id": "QMWu3IBStbRq"
   },
   "source": [
    "d) Compare the 2 models. Why do we need CV?\n",
    "\n",
    "Although they both have an accuracy score of 1.0, these functions have different levels of efficiency for each type of model. They also solve different problems and classifciatiosn with one ending with a forest of trees and the other hyperplanes to classify data.\n",
    "\n",
    "In machine learning, when a model has been trained and tested, training error between predicted and true responses is calculated. The model cannot be generalized to other sets, due to small amount of training data, underfitting or overfitting data. One way to resolve this is to use cross validation (CV) by removing part of the data to be train/test and using it to get predictions from the model trained on rest of the data. \n"
   ]
  },
  {
   "cell_type": "markdown",
   "metadata": {
    "id": "uac965pmotuL"
   },
   "source": [
    "## Problem 4\n",
    "\n",
    "In this problem, you will work on the clustering problem using Bottom-up Agglomerative clustering and K-mean clustering."
   ]
  },
  {
   "cell_type": "markdown",
   "metadata": {
    "id": "YYox5r6IotuL"
   },
   "source": [
    "a) A 4-D dataset is given in **'iris.csv'** with the last column being the ground truth label. Load the file. Store the data in a variable ***X*** and store the label in a variable ***y***. Because clustering is an unsupervised task, there is no need for the labels during training."
   ]
  },
  {
   "cell_type": "code",
   "execution_count": null,
   "metadata": {
    "id": "Wf0fueP1otuM"
   },
   "outputs": [],
   "source": []
  },
  {
   "cell_type": "markdown",
   "metadata": {
    "id": "UzQL_DImotuN"
   },
   "source": [
    "b) Train a clustering model using Bottom-up Agglomerative clustering."
   ]
  },
  {
   "cell_type": "code",
   "execution_count": null,
   "metadata": {
    "id": "r90ogg-FotuO"
   },
   "outputs": [],
   "source": [
    "from sklearn.cluster import AgglomerativeClustering\n"
   ]
  },
  {
   "cell_type": "markdown",
   "metadata": {
    "id": "Fsr5q1nFotuP"
   },
   "source": [
    "Visualize your clusters on a 2-D plot. Choose any 2 dimensions from the 4 dimensions to plot. Try to pick the 2 dimensions that best separate the data. Your plot should contains all the data points with points from the same predicted cluster haveing the same color. "
   ]
  },
  {
   "cell_type": "code",
   "execution_count": null,
   "metadata": {
    "id": "q5gBODR5otuQ"
   },
   "outputs": [],
   "source": []
  },
  {
   "cell_type": "markdown",
   "metadata": {
    "id": "1iEBekEy1SIK"
   },
   "source": [
    "Repeat the visualization step above using the same 2 dimensions. This time, plot according to the ground truth classes. Comment on the performance of your model."
   ]
  },
  {
   "cell_type": "code",
   "execution_count": null,
   "metadata": {
    "id": "p3lf0Xrv1w6X"
   },
   "outputs": [],
   "source": []
  },
  {
   "cell_type": "markdown",
   "metadata": {
    "id": "W9PfTf2sotuR"
   },
   "source": [
    "c) Train a clustering model using K-mean clustering."
   ]
  },
  {
   "cell_type": "code",
   "execution_count": null,
   "metadata": {
    "id": "G5qzh74NotuR"
   },
   "outputs": [],
   "source": [
    "from sklearn.cluster import KMeans\n"
   ]
  },
  {
   "cell_type": "markdown",
   "metadata": {
    "id": "htqJKZCrotuT"
   },
   "source": [
    "Visualize your clusters on a 2-D plot. Choose any 2 dimensions from the 4 dimensions to plot. Try to pick the 2 dimensions that best separate the data. Your plot should contains all the data points with points from the same predicted cluster haveing the same color."
   ]
  },
  {
   "cell_type": "code",
   "execution_count": null,
   "metadata": {
    "id": "deWqhR4potuT"
   },
   "outputs": [],
   "source": []
  },
  {
   "cell_type": "markdown",
   "metadata": {
    "id": "Da9qg3Wi1358"
   },
   "source": [
    "Repeat the visualization step above using the same 2 dimensions. This time, plot according to the ground truth classes. Comment on the performance of your model."
   ]
  },
  {
   "cell_type": "code",
   "execution_count": null,
   "metadata": {
    "id": "Z7EgKmxx17_s"
   },
   "outputs": [],
   "source": []
  },
  {
   "cell_type": "markdown",
   "metadata": {
    "id": "b-8WjIaNotuV"
   },
   "source": [
    "d) Perform Principle Component Analysis (PCA) on the data. Project the original data on the 2 largest principle components. Store this new projected 2-D data in a variable ***X_projected***."
   ]
  },
  {
   "cell_type": "code",
   "execution_count": null,
   "metadata": {
    "id": "Jnx5i9NwotuV"
   },
   "outputs": [],
   "source": [
    "from sklearn.decomposition import PCA\n"
   ]
  },
  {
   "cell_type": "markdown",
   "metadata": {
    "id": "c4VFnvdTotuW"
   },
   "source": [
    "Repeat part **b** on the new 2-D data. Train the Bottom-up Agglomerative model and visualize your results."
   ]
  },
  {
   "cell_type": "code",
   "execution_count": null,
   "metadata": {
    "id": "sLhLTY-PotuX"
   },
   "outputs": [],
   "source": []
  },
  {
   "cell_type": "markdown",
   "metadata": {
    "id": "ZhXg9gKEotuY"
   },
   "source": [
    "Repeat part **c** on the new 2-D data. Train the K-means model and visualize your result."
   ]
  },
  {
   "cell_type": "code",
   "execution_count": null,
   "metadata": {
    "id": "o8jwbAElotuZ"
   },
   "outputs": [],
   "source": []
  },
  {
   "cell_type": "markdown",
   "metadata": {
    "id": "Fz5Wc_dgotua"
   },
   "source": [
    "Compare the quality of 4-D and 2-D clusterings. When would the ideas of projection and dimensionality reduction be useful?"
   ]
  },
  {
   "cell_type": "raw",
   "metadata": {},
   "source": []
  },
  {
   "cell_type": "markdown",
   "metadata": {
    "id": "WmsQa5XEHUau"
   },
   "source": [
    "## Problem 5\n",
    "\n",
    "What is the hypothesis space for problems 1-3? What are the pros and cons of having a large hypothesis space? \n",
    "\n",
    "In problem 2, linear regression hypothesis space is the set of all functions for which linear resgression can generalize the data, including linear functions on polynomials. In problem 3, the hypothesis space of an SVM is the set of all possible hyperplanes. For random forest, the hypothesis space is the set of all possible forests made of all possible trees. Pros of having large hypothesis space is having large set of potential models and having more variability to find a better model. Cons of having large hypothesis space is finding best paramaters harder, taking more time in grid search, and also more costly to implement."
   ]
  },
  {
   "cell_type": "markdown",
   "metadata": {
    "id": "xYuqFx8xHa1M"
   },
   "source": [
    "## Problem 6\n",
    "\n",
    "Suppose we find the best binary classifier for a set of red points and another binary classifier for a set of blue points. Now, suppose we are given a new set of $R$ red and $B$ blue points that we can predict to be positive or negative. If we have to choose a subset of $k$ positive points from $R$ union $B$, what would be fair way for choosing. \n",
    "\n",
    "You are given a red dataset in 'R.csv' and a blue dataset in 'B.csv'. There is also a third test dataset in 'RBtest.csv'."
   ]
  },
  {
   "cell_type": "markdown",
   "metadata": {
    "id": "jFV_vm-orpDp"
   },
   "source": [
    "a) Load the datasets. All datasets are 2-D with the last column containing the labels. "
   ]
  },
  {
   "cell_type": "code",
   "execution_count": 8,
   "metadata": {
    "id": "FZBjsepYHf5P"
   },
   "outputs": [],
   "source": [
    "#read in csv file\n",
    "data = pd.read_csv('R.csv', header = None)\n",
    "\n",
    "#import red x values and labels as  red y value\n",
    "R_X = data[data.columns[0:2]].to_numpy()\n",
    "R_Y = data[2].to_numpy()\n",
    "\n",
    "#read in csv file\n",
    "data = pd.read_csv('B.csv', header = None)\n",
    "\n",
    "#import blue x values and labels as blue y value\n",
    "B_X = data[data.columns[0:2]].to_numpy()\n",
    "B_Y = data[2].to_numpy()"
   ]
  },
  {
   "cell_type": "markdown",
   "metadata": {
    "id": "RemkSEnPr1IB"
   },
   "source": [
    "b) Train 2 classifiers, one for the red dataset and the other for the blue dataset. You are free to choose the learning algorithm. "
   ]
  },
  {
   "cell_type": "code",
   "execution_count": 11,
   "metadata": {
    "id": "oFuY0Y8qsNh-"
   },
   "outputs": [
    {
     "name": "stdout",
     "output_type": "stream",
     "text": [
      "# Tuning hyper-parameters for precision\n",
      "\n",
      "Best parameters set Red:\n",
      "{'C': 1000, 'gamma': 0.01, 'kernel': 'rbf'}\n",
      "Best parameters set Blue:\n",
      "{'C': 10, 'gamma': 0.01, 'kernel': 'rbf'}\n",
      "\n",
      "0.875\n",
      "0.9375\n"
     ]
    }
   ],
   "source": [
    "# Set the parameters by cross-validation\n",
    "from sklearn.metrics import accuracy_score\n",
    "from sklearn.svm import SVC\n",
    "from sklearn.model_selection import StratifiedKFold, GridSearchCV, ParameterGrid\n",
    "from sklearn.model_selection import train_test_split\n",
    "\n",
    "#split both red and blue data sets \n",
    "Red_trainX, Red_testX, Red_trainY, Red_testY = train_test_split(R_X, R_Y, test_size = 0.1, random_state=20)\n",
    "Blue_trainX, Blue_testX, Blue_trainY, Blue_testY = train_test_split(B_X, B_Y, test_size = 0.1, random_state=69)\n",
    "\n",
    "#create SVM models \n",
    "red_SVM = SVC()\n",
    "blue_SVM = SVC()\n",
    "\n",
    "tuned_parameters = [{'kernel': ['rbf'], 'gamma': [1e-2 ,1e-3, 1e-4],\n",
    "                     'C': [1, 3, 5, 10, 20, 100, 200, 1000]},\n",
    "                    {'kernel': ['linear'], 'C': [1, 10, 100, 200, 1000, 2000]}]\n",
    "\n",
    "print(\"# Tuning hyper-parameters for precision\")\n",
    "print()\n",
    "\n",
    "clf_red = GridSearchCV(red_SVM, tuned_parameters, cv = 10)\n",
    "clf_red.fit(Red_trainX, Red_trainY)\n",
    "\n",
    "clf_blue = GridSearchCV(blue_SVM, tuned_parameters, cv = 10)\n",
    "clf_blue.fit(Blue_trainX, Blue_trainY)\n",
    "\n",
    "print(\"Best parameters set Red:\")\n",
    "print(clf_red.best_params_)\n",
    "print(\"Best parameters set Blue:\")\n",
    "print(clf_blue.best_params_)\n",
    "print()\n",
    "\n",
    "#using best mdoels for both red and blue\n",
    "#NOTE: probabilty = true is to use predict_proba function in 6c. decision_function_shape is also used to graph in 6c\n",
    "red_best = SVC(kernel = 'rbf', gamma = 0.01, C = 1000, probability = True, decision_function_shape='ovo')\n",
    "red_best.fit(Red_trainX, Red_trainY)\n",
    "\n",
    "Red_predictions = red_best.predict(Red_testX) \n",
    "\n",
    "blue_best = SVC(kernel = 'rbf', gamma = 0.01, C = 10, probability = True, decision_function_shape='ovo')\n",
    "blue_best.fit(Blue_trainX, Blue_trainY)\n",
    "\n",
    "Blue_predictions = blue_best.predict(Blue_testX) \n",
    " \n",
    "#create accuracy score based on predictions vs test values\n",
    "print(accuracy_score(Red_predictions, Red_testY)) \n",
    "print(accuracy_score(Blue_predictions, Blue_testY)) \n"
   ]
  },
  {
   "cell_type": "markdown",
   "metadata": {
    "id": "bRp8Q1g6sQZW"
   },
   "source": [
    "c) Now use your models to classify instances in the test dataset. The models may agree on many points but may also disagree on many other points. Let's call the set of positive points classified by the red model $P_r$ and the set of positive points classified by the blue model $P_b$. You are asked to pick out $k$ points from the set $P_r \\cup P_b$. What is a fair way to do this. Demonstrate your answer with code and visualizations. \n",
    "\n",
    "Using the best mdoela from red and blue, we extract all positive values from sets of Red and Set of Blue and create a set union of both as indicated in the question. Then by using the metric of both colors prob using predict_prob, a function that finds proabilities closest to a spesfic clasifier, we can find how close the probailbity is to the rb_test data. The metric used is red probabilty * accuracy + blue probability * accuracy. This is a fair way to measure as accuracy of the model is factored into the probability and this metric is used for all sets of potential postive points. By putting these poitns into a max heap, we can pop the max heap for the best possible values, extracting k values of the set. Shown below is the set of postive and negative points in the descision area with red best on red side and blue on blue side. "
   ]
  },
  {
   "cell_type": "code",
   "execution_count": 33,
   "metadata": {
    "id": "INVo2ChrtSOm"
   },
   "outputs": [
    {
     "name": "stdout",
     "output_type": "stream",
     "text": [
      "1\n",
      "1\n",
      "1\n",
      "1\n",
      "1\n",
      "1\n",
      "1\n",
      "1\n",
      "1\n",
      "1\n",
      "1\n",
      "1\n",
      "1\n",
      "1\n",
      "1\n",
      "1\n",
      "1\n",
      "1\n",
      "0\n",
      "1\n",
      "0\n",
      "1\n"
     ]
    },
    {
     "data": {
      "image/png": "[encoded data removed]",
      "text/plain": [
       "<Figure size 720x576 with 1 Axes>"
      ]
     },
     "metadata": {
      "needs_background": "light"
     },
     "output_type": "display_data"
    }
   ],
   "source": [
    "from mlxtend.plotting import plot_decision_regions\n",
    "import matplotlib.pyplot as plt\n",
    "import heapq\n",
    "\n",
    "#read in test data in RBtest\n",
    "redblue = pd.read_csv('RBtest.csv', header=None)\n",
    "rb_X = redblue[redblue.columns[0:2]]\n",
    "rb_y = redblue[2]\n",
    "\n",
    "#predictions on test values to use for accuracy scoring\n",
    "rb_predR = red_best.predict(rb_X)\n",
    "rb_predB = blue_best.predict(rb_X)\n",
    "\n",
    "accuracy_R = accuracy_score(rb_predR, rb_y)\n",
    "accuracy_B = accuracy_score(rb_predB, rb_y)\n",
    "\n",
    "#extract postive and negative values\n",
    "positiveRx = np.where(rb_predR==1)[0]\n",
    "positiveBx = np.where(rb_predB==1)[0]\n",
    "\n",
    "#create union of the set of postive values in Red and Blue as stated above\n",
    "pUidx = set(positiveRx) |  set(positiveBx)\n",
    "\n",
    "#using heap to extract largest probabilities of the union set \n",
    "#this is done with the metric score*accur for both colors\n",
    "scorelist = []\n",
    "for x in pUidx:\n",
    "    redprob = red_best.predict_proba([[rb_X[0][x],rb_X[1][x]]])[0][1]\n",
    "    blueprob = blue_best.predict_proba([[rb_X[0][x],rb_X[1][x]]])[0][1]\n",
    "    scorelist.append((redprob*accuracy_R +blueprob*accuracy_B,x)) # the value x is the location\n",
    "\n",
    "scoreheap = heapq._heapify_max(scorelist) #creation of max heap\n",
    "\n",
    "finalscores = []\n",
    "#k is number of values  pulled\n",
    "p = 22\n",
    "for i in range(p):\n",
    "    finalscores.append(heapq._heappop_max(scorelist))\n",
    "\n",
    "#printing postive/negative values of max values pulled from heap\n",
    "for i in finalscores:\n",
    "    print(rb_y[i[1]])\n",
    "\n",
    "    \n",
    "#plotting descsion regions\n",
    "xx, yy = np.meshgrid(np.arange(-3, 3, 0.02),\n",
    "                     np.arange(-3, 3, 0.02))\n",
    "\n",
    "#shape region\n",
    "Z1 = red_best.predict(np.c_[xx.ravel(), yy.ravel()])\n",
    "Z1 = Z1.reshape(xx.shape)\n",
    "Z2 = blue_best.predict(np.c_[xx.ravel(), yy.ravel()])\n",
    "Z2 = Z2.reshape(xx.shape)\n",
    "\n",
    "k = 10\n",
    "colors = ['red', 'blue']\n",
    "\n",
    "newfig = plt.figure(figsize=(10,8))\n",
    "plt.contourf(xx, yy, Z1, cmap=plt.cm.coolwarm, alpha=0.8) \n",
    "plt.contourf(xx, yy, Z2, cmap=plt.cm.coolwarm, alpha=0.8)\n",
    "for j in range(rbX.shape[0]):\n",
    "        plt.scatter(rbX[0][j],rbX[1][j],color= colors[rby[j]])\n",
    "for i in finalist:\n",
    "        index = i[1]\n",
    "        plt.scatter(rbX[0][index], rbX[1][index], color = 'green')\n",
    "\n",
    "plt.show()"
   ]
  }
 ],
 "metadata": {
  "colab": {
   "collapsed_sections": [],
   "name": "HW1.ipynb",
   "provenance": []
  },
  "kernelspec": {
   "display_name": "Python 3",
   "language": "python",
   "name": "python3"
  },
  "language_info": {
   "codemirror_mode": {
    "name": "ipython",
    "version": 3
   },
   "file_extension": ".py",
   "mimetype": "text/x-python",
   "name": "python",
   "nbconvert_exporter": "python",
   "pygments_lexer": "ipython3",
   "version": "3.7.6"
  }
 },
 "nbformat": 4,
 "nbformat_minor": 1
}

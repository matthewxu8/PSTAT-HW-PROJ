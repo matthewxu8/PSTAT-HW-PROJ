{
 "cells": [
  {
   "cell_type": "code",
   "execution_count": 2,
   "metadata": {},
   "outputs": [],
   "source": [
    "import math\n",
    "import pandas as pd\n",
    "import numpy as np\n",
    "import matplotlib.pyplot as plt"
   ]
  },
  {
   "cell_type": "markdown",
   "metadata": {},
   "source": [
    "### Problem 1\n",
    "\n",
    "Matthew Xu 5752811"
   ]
  },
  {
   "cell_type": "code",
   "execution_count": 3,
   "metadata": {},
   "outputs": [
    {
     "name": "stdout",
     "output_type": "stream",
     "text": [
      "          education         marital-status\n",
      "920         Masters     Married-civ-spouse\n",
      "4804        HS-grad                Widowed\n",
      "9600        HS-grad               Divorced\n",
      "10084     Bachelors  Married-spouse-absent\n",
      "10476  Some-college          Never-married\n",
      "11961  Some-college          Never-married\n",
      "12627    Assoc-acdm  Married-spouse-absent\n",
      "14697          11th  Married-spouse-absent\n",
      "16440       HS-grad               Divorced\n",
      "16742  Some-college          Never-married\n",
      "19175       HS-grad          Never-married\n",
      "20140       HS-grad               Divorced\n",
      "25122  Some-college                Widowed\n",
      "31602       HS-grad          Never-married\n",
      "       age    occupation                race     sex  capital-gain  \\\n",
      "29431   59  Craft-repair  Asian-Pac-Islander  Female             0   \n",
      "\n",
      "       capital-loss  hours-per-week native-country income  \n",
      "29431             0              35    Philippines  <=50K  \n",
      "       age    occupation     education  education-num         marital-status  \\\n",
      "920     59  Craft-repair       Masters             14     Married-civ-spouse   \n",
      "4804    49  Craft-repair       HS-grad              9                Widowed   \n",
      "9600    33  Craft-repair       HS-grad              9               Divorced   \n",
      "10084   28  Craft-repair     Bachelors             13  Married-spouse-absent   \n",
      "10476   22  Craft-repair  Some-college             10          Never-married   \n",
      "11961   25  Craft-repair  Some-college             10          Never-married   \n",
      "12627   26  Craft-repair    Assoc-acdm             12  Married-spouse-absent   \n",
      "14697   20  Craft-repair          11th              7  Married-spouse-absent   \n",
      "16440   37  Craft-repair       HS-grad              9               Divorced   \n",
      "16742   22  Craft-repair  Some-college             10          Never-married   \n",
      "19175   21  Craft-repair       HS-grad              9          Never-married   \n",
      "20140   40  Craft-repair       HS-grad              9               Divorced   \n",
      "25122   65  Craft-repair  Some-college             10                Widowed   \n",
      "31602   18  Craft-repair       HS-grad              9          Never-married   \n",
      "\n",
      "                     race     sex  \n",
      "920    Asian-Pac-Islander  Female  \n",
      "4804   Asian-Pac-Islander  Female  \n",
      "9600   Asian-Pac-Islander  Female  \n",
      "10084  Asian-Pac-Islander  Female  \n",
      "10476  Asian-Pac-Islander  Female  \n",
      "11961  Asian-Pac-Islander  Female  \n",
      "12627  Asian-Pac-Islander  Female  \n",
      "14697  Asian-Pac-Islander  Female  \n",
      "16440  Asian-Pac-Islander  Female  \n",
      "16742  Asian-Pac-Islander  Female  \n",
      "19175  Asian-Pac-Islander  Female  \n",
      "20140  Asian-Pac-Islander  Female  \n",
      "25122  Asian-Pac-Islander  Female  \n",
      "31602  Asian-Pac-Islander  Female  \n"
     ]
    }
   ],
   "source": [
    "table1 = pd.read_csv('table1.csv')\n",
    "table2 = pd.read_csv('table2.csv')\n",
    "\n",
    "#Using table 1 only, table 1 does not have native country \n",
    "#Use Race, Sex, and Occuptation to identify education and martial status\n",
    "var1 = table1.loc[(table1['sex'] == 'Female') & (table1['race'] == 'Asian-Pac-Islander') & (table1['occupation'] == 'Craft-repair')] \n",
    "iden1 = var1[['education','marital-status']]\n",
    "print(iden1)\n",
    "\n",
    "var2 = table2.loc[(table2['native-country'] == 'Philippines') & (table2['race'] == 'Asian-Pac-Islander') & (table2['occupation'] == 'Craft-repair') & (table2['sex'] == 'Female')] \n",
    "print(var2)\n",
    "print(var1)\n"
   ]
  },
  {
   "cell_type": "markdown",
   "metadata": {},
   "source": [
    "In table 1, we cannot determine a spesfic women from sex, race, and occupation to determine education and martial status (table 1 does not have native country) because it has a anomity of 14 for the attributes avialiable. Table 2 doesnt even have the education and martial status attributes alone. Using native country, race, occupation, and sex from table 2, there is an anomity of 1 for those attributes, with an age of 59. Using that age from 59 in table 1, with an anomiety of 1, we can identify a woman from the Phillipenes, asian, female, craft repair and has an education of masters and martial status of Married-civ-spouse. Although the tables may not appear to be related, it is possible to still find a person given the attributes."
   ]
  },
  {
   "cell_type": "markdown",
   "metadata": {
    "id": "cHSaycfVdHRJ"
   },
   "source": [
    "### Problem 2\n",
    "\n",
    "Experimenting with **k-anomity, i-diversity, and t-closeness**. \n",
    "\n",
    "Consider a dataset, for example, with 3 ordinary attributes and 1 sensitive attribute. Let the 3 ordinary attributes be Age, Sex, and Education and the sensitive attribute be Income, each row in this dataset is of the form:\n",
    "\n",
    "$$\n",
    "    [Age, Sex, Education, Income]\n",
    "$$\n",
    "\n",
    "A hacker is interested in knowing the sensitive attribute Income. When the dataset is designed so that if complies with either **k-anomity**, **i-diversity**, and/or **t-closeness**, even if he or she somehow figures out the values of the three, the hacker may not retrive the sensitive information accurately. In general, **k-anomity** is weaker than **i-diversity**, which, in turn, is weaker than **t-closeness**.\n",
    "\n",
    "By definition, **k-anomity** means that there is at least **k** different rows in the table of which ordinary values are a particular combination of Age, Sex, and Education. For example, the hacker knows the information of the person of interest is Age = 31, Sex = Female, and Education = BS. He or she looks into the data table and found that there are 3 rows with that combination:\n",
    "\n",
    "$$\n",
    "    [Age=31, Sex=Female, Education=BS, Income=300k]\n",
    "$$\n",
    "$$\n",
    "    [Age=31, Sex=Female, Education=BS, Income=70k]\n",
    "$$\n",
    "$$\n",
    "    [Age=31, Sex=Female, Education=BS, Income=20k]\n",
    "$$\n",
    "\n",
    "The hacker cannot tell accurately what the income of the person is because it can be one of the 3 values shown. This particular combination of information has 3-anomity. If every combination corresponds to at least 3 rows, then the dataset has 3-anomity.\n",
    "\n",
    "a) Let's look at the dataset **\"table3.csv\"**, a simplified version of **\"table1.csv\"** from problem 1. Let the sensitive attribute be **education** and others be ordinary attributes. Calculate the anomity of the dataset (the value **k**). First, find all the posible combinations of the ordinary attributes that exists in the dataset. After that, determine the anomity for each combination. The anomity of the dataset is the smallest anomity among the combinations."
   ]
  },
  {
   "cell_type": "code",
   "execution_count": 4,
   "metadata": {
    "id": "Qrm7S5y5dHRJ"
   },
   "outputs": [
    {
     "name": "stdout",
     "output_type": "stream",
     "text": [
      "1\n"
     ]
    }
   ],
   "source": [
    "table3 = pd.read_csv('table3.csv')\n",
    "\n",
    "table3_group = table3.groupby(['age', 'race', 'sex'])\n",
    "freq = table3_group.size()\n",
    "print(freq.min())\n"
   ]
  },
  {
   "cell_type": "markdown",
   "metadata": {},
   "source": [
    "The anmoity of the data set is 1-anomity."
   ]
  },
  {
   "cell_type": "markdown",
   "metadata": {
    "id": "ixGLowBjdHRK"
   },
   "source": [
    "We can improve the **k-anomity** of the dataset by \"suppressing\" the ordinary attributes. Suppressing means reducing the resolution of the attribute's value. For this problem, let's suppress Age by replacing the exact age with an age range. For example, instead of leaving age = 32, replace it with age = 30-40. Apply this to **\"table3.csv\"** with the ranges {<20, 20-30, 30-50, >50}. Check if the anomity improves. "
   ]
  },
  {
   "cell_type": "code",
   "execution_count": 21,
   "metadata": {
    "id": "AGqI5mltdHRK"
   },
   "outputs": [
    {
     "name": "stdout",
     "output_type": "stream",
     "text": [
      "7\n"
     ]
    }
   ],
   "source": [
    "def age_range(row):\n",
    "    if row['age'] <= 20:\n",
    "        return '<20'\n",
    "    if row['age'] > 20 and row['age'] <= 30:\n",
    "        return '20-30'\n",
    "    if row['age'] > 30 and row['age'] <= 50:\n",
    "        return '30-50'\n",
    "    if row['age'] > 50:\n",
    "        return '>50'\n",
    "    \n",
    "table3_copy = table3.copy(deep = True)\n",
    "table3_copy['age_range'] = table3_copy.apply(lambda row: age_range(row), axis=1)\n",
    "\n",
    "freq_range = table3_copy.groupby(['age_range', 'race', 'sex']).size()\n",
    "print(freq_range.min())\n"
   ]
  },
  {
   "cell_type": "markdown",
   "metadata": {},
   "source": [
    "Using the ranged dataset (upper bound), the anomity increases to 7-anomity."
   ]
  },
  {
   "cell_type": "markdown",
   "metadata": {
    "id": "Pv-RmXqCdHRK"
   },
   "source": [
    "**K-anomity** is nice, however, it fails in many cases. If the rows which share a combination of ordinary attributes have only a few values for the sensitive attribute, then it is not much better than having no anomity at all. For example, consider:\n",
    "\n",
    "$$\n",
    "    [Age=31, Sex=Female, Education=BS, Income=300k]\n",
    "$$\n",
    "$$\n",
    "    [Age=31, Sex=Female, Education=BS, Income=20k]\n",
    "$$\n",
    "$$\n",
    "    [Age=31, Sex=Female, Education=BS, Income=20k]\n",
    "$$\n",
    "$$\n",
    "    [Age=31, Sex=Female, Education=BS, Income=20k]\n",
    "$$\n",
    "\n",
    "When **k-anomity** fails in the second case, **i-diversity** comes to the rescue. **I-diversity** states that the rows of a particular combination of information must have at least i different values for the sensitive attribute. The above example has 2-diversity, which is not good. \n",
    "\n",
    "b) Calculate the diversity of the dataset **\"table3.csv\"**. Follow similar steps as in part a. "
   ]
  },
  {
   "cell_type": "code",
   "execution_count": 40,
   "metadata": {
    "id": "eZYCvcukdHRK"
   },
   "outputs": [
    {
     "name": "stdout",
     "output_type": "stream",
     "text": [
      "1\n"
     ]
    }
   ],
   "source": [
    "print(table3_group['education'].nunique().min())\n"
   ]
  },
  {
   "cell_type": "markdown",
   "metadata": {},
   "source": [
    "The dataset has a diveristy of 1-diversity"
   ]
  },
  {
   "cell_type": "markdown",
   "metadata": {
    "id": "6qWt9JvTdHRK"
   },
   "source": [
    "Suppressing an attribute can also improve the **i-diversity** of the dataset. Repeat the suppression as in **part a** and check if the diversity improves. If it does not, consider further suppress age by using the range {<20, 20-50, >50}."
   ]
  },
  {
   "cell_type": "code",
   "execution_count": 41,
   "metadata": {
    "id": "FFVPKWrodHRK"
   },
   "outputs": [
    {
     "name": "stdout",
     "output_type": "stream",
     "text": [
      "4\n"
     ]
    }
   ],
   "source": [
    "print(table3_copy.groupby(['age_range', 'race', 'sex'])['education'].nunique().min())\n"
   ]
  },
  {
   "cell_type": "markdown",
   "metadata": {},
   "source": [
    "With supression of an attribute, the diveristy of ranged (upperbound) increases to 4-diversity."
   ]
  },
  {
   "cell_type": "markdown",
   "metadata": {
    "id": "TX1lsm8ydHRK"
   },
   "source": [
    "**T-closeness** is even better than **i-diversity**. **T-closeness** requires that for every combination of information, the distribution of the sensitive attribute's value among the corresponding rows must be close to the overall distribution of the sensitive attribute's value for the whole dataset. Distance between distribution is calculated using the Earth Mover Distance (EMD). The dataset has **t-closeness** if no distance exceeds **t**. \n",
    "\n",
    "c) Calculate the overall distribution of **education**. Find the **t-closeness** of the dataset (largest distance between any combination's distribution of marital-status and the overall distribution).\n",
    "\n",
    "You can use **scipy.stats.wasserstein_distance** to calculate the EMD."
   ]
  },
  {
   "cell_type": "code",
   "execution_count": 38,
   "metadata": {
    "id": "BjR4iG2bdHRK"
   },
   "outputs": [
    {
     "name": "stdout",
     "output_type": "stream",
     "text": [
      "0.08468720248149628\n"
     ]
    }
   ],
   "source": [
    "from sklearn.preprocessing import normalize\n",
    "from scipy.stats import wasserstein_distance\n",
    "\n",
    "ed_freq = table3['education'].value_counts().to_dict()\n",
    "\n",
    "#initialize max for wasserstein distance\n",
    "max = 0\n",
    "for key, group in table3_group:\n",
    "\n",
    "    group_freq = group.groupby(['education']).size().to_dict()\n",
    "    array1 = []\n",
    "    array2 = []\n",
    "\n",
    "    for k in ed_freq:\n",
    "        array1.append(ed_freq[k])\n",
    "        array2.append(group_freq.get(k, 0))\n",
    "   \n",
    "    #normalize distribution vectors\n",
    "    array1_sum = sum(array1)\n",
    "    array2_sum = sum(array2)\n",
    "\n",
    "    for i in range(len(array1)):\n",
    "        array1[i] = array1[i]/array1_sum\n",
    "        array2[i] = array2[i]/array2_sum\n",
    "    dist = wasserstein_distance(array1, array2)\n",
    "    \n",
    "    #find max for wasserstein distance\n",
    "    if dist > max:\n",
    "        max = dist\n",
    "\n",
    "print(max)"
   ]
  },
  {
   "cell_type": "markdown",
   "metadata": {},
   "source": [
    "The t-closeness, largest distance between any combination's distribution of marital-status and the overall distribution) is 0.08468"
   ]
  },
  {
   "cell_type": "markdown",
   "metadata": {},
   "source": [
    "### Problem 3\n",
    "\n"
   ]
  },
  {
   "cell_type": "code",
   "execution_count": 47,
   "metadata": {},
   "outputs": [
    {
     "name": "stdout",
     "output_type": "stream",
     "text": [
      "Minimum average if an individual in the database were excluded:\n",
      "55.69620253164557\n",
      "Maximum average if an individual in the database were excluded:\n",
      "56.45569620253165\n",
      "Maximum average if an individual outside the database were included:\n",
      "56.79012345679013\n",
      "Minimum average if an individual outside the database were included:\n",
      "56.04938271604938\n",
      "Maximum average if age of individual that is in the database was different:\n",
      "57.0\n",
      "Minimum average if age of individual that is in the database was different:\n",
      "55.5\n",
      "Current average with no change:\n",
      "56.25\n"
     ]
    }
   ],
   "source": [
    "from scipy.stats import laplace\n",
    "\n",
    "#Number 1 Part 1\n",
    "print(\"Minimum average if an individual in the database were excluded:\")\n",
    "min1 = (4500-100)/79\n",
    "print(min1)\n",
    "print(\"Maximum average if an individual in the database were excluded:\")\n",
    "max1 = (4500-40)/79\n",
    "print(max1)\n",
    "\n",
    "#Number 1 Part 2\n",
    "print(\"Maximum average if an individual outside the database were included:\")\n",
    "max2 = (4500+100)/81\n",
    "print(max2)\n",
    "print(\"Minimum average if an individual outside the database were included:\")\n",
    "min2 = (4500+40)/81\n",
    "print(min2)\n",
    "\n",
    "#Number 1 Part 3\n",
    "print(\"Maximum average if age of individual that is in the database was different:\")\n",
    "max3 = (4500+60)/80\n",
    "print(max3)\n",
    "print(\"Minimum average if age of individual that is in the database was different:\")\n",
    "min3 = (4500-60)/80\n",
    "print(min3)\n",
    "\n",
    "print(\"Current average with no change:\") \n",
    "curr_avg = 4500/80\n",
    "print(curr_avg)"
   ]
  },
  {
   "cell_type": "code",
   "execution_count": 85,
   "metadata": {},
   "outputs": [
    {
     "data": {
      "image/png": "[encoded data removed]",
      "text/plain": [
       "<Figure size 432x288 with 1 Axes>"
      ]
     },
     "metadata": {
      "needs_background": "light"
     },
     "output_type": "display_data"
    }
   ],
   "source": [
    "#On a piece of paper, mark these 7 scenarios for the average (including the original average) on the real line.\n",
    "minmax_val = [min1,min2,min3,max1,max2,max3,curr_avg]\n",
    "\n",
    "predictedY = minmax_val \n",
    "\n",
    "scatter = plt.scatter(minmax_val , np.zeros_like(minmax_val),cmap=\"hot_r\", vmin=-10)\n",
    "\n",
    "plt.axhline(y=0)\n",
    "plt.yticks([])\n",
    "\n",
    "plt.show()"
   ]
  },
  {
   "cell_type": "code",
   "execution_count": 86,
   "metadata": {},
   "outputs": [
    {
     "name": "stderr",
     "output_type": "stream",
     "text": [
      "No handles with labels found to put in legend.\n"
     ]
    },
    {
     "data": {
      "image/png": "[encoded data removed]",
      "text/plain": [
       "<Figure size 360x270 with 1 Axes>"
      ]
     },
     "metadata": {
      "needs_background": "light"
     },
     "output_type": "display_data"
    }
   ],
   "source": [
    "#Make the real line above the x-axis and draw a perpendicular y-axis. \n",
    "#Then draw 7 Laplacian distributions centered around each of these averages. \n",
    "\n",
    "fig, ax = plt.subplots(figsize=(5, 3.75))\n",
    "delta = 1 \n",
    "x = np.linspace(50, 63, 1000)\n",
    "for mu in minmax_val:\n",
    "    dist = laplace(mu, delta)\n",
    "    plt.plot(x,dist.pdf(x)) \n",
    "    plt.axvline(x=mu)\n",
    "\n",
    "plt.ylim(0, 0.6)\n",
    "plt.xlabel('Average')\n",
    "plt.ylabel('P(average + noise | average(i))')\n",
    "plt.title('Laplace Distribution')\n",
    "\n",
    "plt.legend()\n",
    "plt.show()"
   ]
  },
  {
   "cell_type": "code",
   "execution_count": 93,
   "metadata": {},
   "outputs": [
    {
     "name": "stdout",
     "output_type": "stream",
     "text": [
      "[0.553797468354432, 0.20061728395062062, 0.75, 0.205696202531648, 0.540123456790127, 0.75]\n"
     ]
    }
   ],
   "source": [
    "#find distance from mean\n",
    "minmax_nocurr = [min1,min2,min3,max1,max2,max3]\n",
    "dist = []\n",
    "for i in range(6):\n",
    "    dist.append(abs(minmax_nocurr[i] - curr_avg))\n",
    "print(dist)"
   ]
  },
  {
   "cell_type": "raw",
   "metadata": {},
   "source": [
    "Because both min3 and max3 have the largest distance away from the mean. Using the formula for x bound between 40 and 100 to find relationship between b and elipson:\n",
    "\n",
    "We want to choose our noise level b such that for any value on the x-axis we can say the ratio between a\n",
    "hypothetical scenario and the original scenario is no more than ee and no less than e-e\n",
    "Minimum such b in order to minimize the pollution, take the largest of bi.\n",
    "\n",
    "$b = (abs(x-mean)-abs(x-original_mean))/(elipson)$ (this is from Lapalce's pdf difference beweteen 2 abs(means))\n",
    "\n",
    "Using this formula, you get a b range of 7.5. The distribution of b is symmetric. The best b value here is 7.5."
   ]
  },
  {
   "cell_type": "code",
   "execution_count": 90,
   "metadata": {},
   "outputs": [
    {
     "name": "stdout",
     "output_type": "stream",
     "text": [
      "Minimum average if an individual in the database were excluded:\n",
      "56.195244055068834\n",
      "Maximum average if an individual in the database were excluded:\n",
      "56.270337922403\n",
      "Maximum average if an individual outside the database were included:\n",
      "56.30461922596754\n",
      "Minimum average if an individual outside the database were included:\n",
      "56.22971285892634\n",
      "Maximum average if age of individual that is in the database was different:\n",
      "56.325\n",
      "Minimum average if age of individual that is in the database was different:\n",
      "56.175\n"
     ]
    }
   ],
   "source": [
    "#Number 1 Part 1\n",
    "print(\"Minimum average if an individual in the database were excluded:\")\n",
    "min_1 = (45000-100)/799\n",
    "print(min_1)\n",
    "print(\"Maximum average if an individual in the database were excluded:\")\n",
    "max_1 = (45000-40)/799\n",
    "print(max_1)\n",
    "\n",
    "#Number 1 Part 2\n",
    "print(\"Maximum average if an individual outside the database were included:\")\n",
    "max_2 = (45000+100)/801\n",
    "print(max_2)\n",
    "print(\"Minimum average if an individual outside the database were included:\")\n",
    "min_2 = (45000+40)/801\n",
    "print(min_2)\n",
    "\n",
    "#Number 1 Part 3\n",
    "print(\"Maximum average if age of individual that is in the database was different:\")\n",
    "max_3 = (45000+60)/800\n",
    "print(max_3)\n",
    "print(\"Minimum average if age of individual that is in the database was different:\")\n",
    "min_3 = (45000-60)/800\n",
    "print(min_3)"
   ]
  },
  {
   "cell_type": "code",
   "execution_count": 91,
   "metadata": {},
   "outputs": [
    {
     "data": {
      "image/png": "[encoded data removed]",
      "text/plain": [
       "<Figure size 432x288 with 1 Axes>"
      ]
     },
     "metadata": {
      "needs_background": "light"
     },
     "output_type": "display_data"
    }
   ],
   "source": [
    "#On a piece of paper, mark these 7 scenarios for the average (including the original average) on the real line.\n",
    "min_max_val = [min_1,min_2,min_3,max_1,max_2,max_3,curr_avg]\n",
    "\n",
    "predicted_Y = min_max_val \n",
    "\n",
    "scatter_1 = plt.scatter(min_max_val , np.zeros_like(min_max_val),cmap=\"hot_r\", vmin=-10)\n",
    "\n",
    "plt.axhline(y=0)\n",
    "plt.yticks([])\n",
    "\n",
    "plt.show()"
   ]
  },
  {
   "cell_type": "code",
   "execution_count": 92,
   "metadata": {},
   "outputs": [
    {
     "name": "stderr",
     "output_type": "stream",
     "text": [
      "No handles with labels found to put in legend.\n"
     ]
    },
    {
     "data": {
      "image/png": "[encoded data removed]",
      "text/plain": [
       "<Figure size 360x270 with 1 Axes>"
      ]
     },
     "metadata": {
      "needs_background": "light"
     },
     "output_type": "display_data"
    }
   ],
   "source": [
    "#Make the real line above the x-axis and draw a perpendicular y-axis. \n",
    "#Then draw 7 Laplacian distributions centered around each of these averages. \n",
    "\n",
    "fig, ax = plt.subplots(figsize=(5, 3.75))\n",
    "delta = 1 \n",
    "x = np.linspace(50, 63, 1000)\n",
    "for mu in min_max_val:\n",
    "    dist = laplace(mu, delta)\n",
    "    plt.plot(x,dist.pdf(x)) \n",
    "    plt.axvline(x=mu)\n",
    "\n",
    "plt.ylim(0, 0.6)\n",
    "plt.xlabel('Average')\n",
    "plt.ylabel('P(average + noise | average(i))')\n",
    "plt.title('Laplace Distribution')\n",
    "\n",
    "plt.legend()\n",
    "plt.show()"
   ]
  },
  {
   "cell_type": "code",
   "execution_count": 95,
   "metadata": {},
   "outputs": [
    {
     "name": "stdout",
     "output_type": "stream",
     "text": [
      "[0.05475594493116631, 0.020287141073659143, 0.07500000000000284, 0.020337922403001585, 0.054619225967542206, 0.07500000000000284]\n"
     ]
    }
   ],
   "source": [
    "#find dist from mean\n",
    "min_max_nocurr = [min_1,min_2,min_3,max_1,max_2,max_3]\n",
    "dist_1 = []\n",
    "ratio = []\n",
    "for i in range(6):\n",
    "    dist_1.append(abs(min_max_nocurr[i] - curr_avg))\n",
    "    \n",
    "print(dist_1)"
   ]
  },
  {
   "cell_type": "markdown",
   "metadata": {},
   "source": [
    "Using the methodology from before, both min_3 and max_3 are have the largest distance away from the mean. Finding the largest Bi to minimize statisical pollution. Using the formula find that the best b value to be about 0.54. "
   ]
  },
  {
   "cell_type": "markdown",
   "metadata": {
    "id": "W5LHcufCdHRK"
   },
   "source": [
    "### Problem 4 \n",
    "\n",
    "There are 2 regression datasets given to you: \"group1.csv\" and \"group2.csv\". Both have 2 attributes and no label. Load them and store them in $X_1$ and $X_2$, respectively. "
   ]
  },
  {
   "cell_type": "code",
   "execution_count": 78,
   "metadata": {
    "id": "zpMsZXkPdHRK"
   },
   "outputs": [],
   "source": [
    "X1 = pd.read_csv('group1.csv', header = None)\n",
    "X2 = pd.read_csv('group2.csv', header = None)"
   ]
  },
  {
   "cell_type": "markdown",
   "metadata": {
    "id": "AiDGJzt-dHRK"
   },
   "source": [
    "a) Run Linear Regression on each of the datasets. Are the coefficients positive or negative? Provide a plot for each dataset. "
   ]
  },
  {
   "cell_type": "code",
   "execution_count": 96,
   "metadata": {
    "id": "C4AhAsWxdHRK"
   },
   "outputs": [
    {
     "name": "stdout",
     "output_type": "stream",
     "text": [
      "X1 coeff:  [[0.89717851]]\n",
      "X2 coeff:  [[1.15339068]]\n"
     ]
    },
    {
     "data": {
      "image/png": "[encoded data removed]",
      "text/plain": [
       "<Figure size 432x288 with 1 Axes>"
      ]
     },
     "metadata": {
      "needs_background": "light"
     },
     "output_type": "display_data"
    },
    {
     "data": {
      "image/png": "[encoded data removed]",
      "text/plain": [
       "<Figure size 432x288 with 1 Axes>"
      ]
     },
     "metadata": {
      "needs_background": "light"
     },
     "output_type": "display_data"
    }
   ],
   "source": [
    "from sklearn.linear_model import LinearRegression\n",
    "from sklearn import linear_model\n",
    "\n",
    "x_1 = X1[0].to_numpy()\n",
    "y_1 = X1[1].to_numpy()\n",
    "x_2 = X2[0].to_numpy()\n",
    "y_2 = X2[1].to_numpy()\n",
    "\n",
    "#instance of linear regression object\n",
    "reg1 = linear_model.LinearRegression()\n",
    "reg2 = linear_model.LinearRegression()\n",
    "\n",
    "#fit linear model to data\n",
    "reg1.fit(x_1[:, np.newaxis], y_1[:, np.newaxis])\n",
    "reg2.fit(x_2[:, np.newaxis], y_2[:, np.newaxis])\n",
    "\n",
    "#print parameters\n",
    "print('X1 coeff: ', reg1.coef_)\n",
    "print('X2 coeff: ', reg2.coef_)\n",
    "\n",
    "#linear regression fit\n",
    "model1 = LinearRegression(fit_intercept=True)\n",
    "model2 = LinearRegression(fit_intercept=True)\n",
    "\n",
    "model1.fit(x_1[:, np.newaxis], y_1)\n",
    "model2.fit(x_2[:, np.newaxis], y_2)\n",
    "\n",
    "#create x values, using model predict y values for line\n",
    "xfit1 = np.linspace(0, 10, 1000)\n",
    "yfit1 = model1.predict(xfit1[:, np.newaxis])\n",
    "\n",
    "xfit2 = np.linspace(0, 10, 1000)\n",
    "yfit2 = model2.predict(xfit2[:, np.newaxis])\n",
    "\n",
    "plt.subplots()\n",
    "plt.scatter(x_1, y_1,color = 'red')\n",
    "plt.plot(xfit1, yfit1, color = 'red')\n",
    "plt.title('Linear Regression on X1')\n",
    "\n",
    "plt.subplots()\n",
    "plt.scatter(x_2, y_2)\n",
    "plt.plot(xfit2, yfit2)\n",
    "plt.title('Linear Regression on X2')\n",
    "\n",
    "plt.show()"
   ]
  },
  {
   "cell_type": "markdown",
   "metadata": {},
   "source": [
    "The coefficients of both linear regressions are postive"
   ]
  },
  {
   "cell_type": "markdown",
   "metadata": {
    "id": "j1PyBaU1dHRL"
   },
   "source": [
    "b) Now combine both datasets into a single large dataset. Call this dataset $X$ ($X=X_1 \\cup X_2$). Again, run Linear Regression on the combined dataset $X$. Is the coefficient positive or negative? Provide a plot. "
   ]
  },
  {
   "cell_type": "code",
   "execution_count": 97,
   "metadata": {
    "id": "9BjTQh9BdHRL"
   },
   "outputs": [
    {
     "name": "stdout",
     "output_type": "stream",
     "text": [
      "X3 coeff:  [[-1.38439504]]\n"
     ]
    },
    {
     "data": {
      "image/png": "[encoded data removed]",
      "text/plain": [
       "<Figure size 432x288 with 1 Axes>"
      ]
     },
     "metadata": {
      "needs_background": "light"
     },
     "output_type": "display_data"
    }
   ],
   "source": [
    "X = X1.append(X2)\n",
    "\n",
    "x_3 = X[0]\n",
    "y_3 = X[1]\n",
    "\n",
    "reg3 = linear_model.LinearRegression()\n",
    "reg3.fit(x_3[:, np.newaxis], y_3[:, np.newaxis])\n",
    "\n",
    "print('X3 coeff: ', reg3.coef_)\n",
    "\n",
    "#linear regression fit\n",
    "model3 = LinearRegression(fit_intercept=True)\n",
    "\n",
    "model3.fit(x_3[:, np.newaxis], y_3)\n",
    "\n",
    "#create x values, using model predict y values for line\n",
    "xfit3 = np.linspace(0, 10, 1000)\n",
    "yfit3 = model3.predict(xfit3[:, np.newaxis])\n",
    "\n",
    "plt.subplots()\n",
    "plt.scatter(x_3, y_3, color = 'green')\n",
    "plt.plot(xfit3, yfit3, color = 'green')\n",
    "plt.title('Linear Regression on X')\n",
    "\n",
    "plt.show()"
   ]
  },
  {
   "cell_type": "markdown",
   "metadata": {
    "id": "RTV1WfcWdHRL"
   },
   "source": [
    "c) What is the name of this illustrated paradox? What do the above results tell us about modeling the relationship between two variables in the presence of a missing attribute? To give you some intuition, imagine there is a third unobserved attribute $Z$ that has different values depending on which group an example belongs to. In other words, every data point in $X_1$ has $Z=1$ and every data point in $X_2$ has $Z=2$. Attribute $Z$ essentially partitions the whole dataset $X$ into 2 subsets $X_1$ and $X_2$.  "
   ]
  },
  {
   "cell_type": "markdown",
   "metadata": {},
   "source": [
    "The name of the paradox is Simpson's Paradox, where it is a trend in Statistics and Probability where when groups are combined, trends change or even reverse, which in this case the coefficient of linear regressions reversed when combined. When combing datasets of two variables, a third missing attribute may be created, resulting in a large change in the relationship between the intial two variables."
   ]
  },
  {
   "cell_type": "markdown",
   "metadata": {},
   "source": [
    "### Problem 5\n",
    "\n",
    "a.) No, W and Z are not independent as there is a path between W and Z through T.\n",
    "\n",
    "b.) No, because if y is given, that assumes that t is also given, meaning there is a path between between W and Z through T.\n",
    "\n",
    "c.) No, because if x is given, y is also given, which also implies t is given, meaning there is a path between W and Z through T\n",
    "\n",
    "d.) Do(T=1), removes all incoming links to T and set its value to 1, therefore intervening on T. \n",
    "\n",
    "For a. they can be conditionally independent as Y is a blocker for path from W to Z through Y and V blocks from W through Y. \n",
    "\n",
    "For b. they are not conditionally independent as there is a path from W to X to Y then from Y though to Z. \n",
    "\n",
    "For c, they can be conditionally independent as there is a d-seperation of X from W and Y to Z. "
   ]
  }
 ],
 "metadata": {
  "colab": {
   "name": "HW4.ipynb",
   "provenance": []
  },
  "kernelspec": {
   "display_name": "Python 3",
   "language": "python",
   "name": "python3"
  },
  "language_info": {
   "codemirror_mode": {
    "name": "ipython",
    "version": 3
   },
   "file_extension": ".py",
   "mimetype": "text/x-python",
   "name": "python",
   "nbconvert_exporter": "python",
   "pygments_lexer": "ipython3",
   "version": "3.7.6"
  }
 },
 "nbformat": 4,
 "nbformat_minor": 1
}

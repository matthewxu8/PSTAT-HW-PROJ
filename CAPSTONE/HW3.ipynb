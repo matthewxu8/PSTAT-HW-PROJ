{
 "cells": [
  {
   "cell_type": "markdown",
   "metadata": {
    "id": "XPsgwxLU2Sed"
   },
   "source": [
    "# Homework 3\n",
    "\n",
    "DUE DEC 1st at 11:59 PM\n",
    "\n",
    "Matthew Xu \n",
    "5752811\n"
   ]
  },
  {
   "cell_type": "code",
   "execution_count": 2,
   "metadata": {},
   "outputs": [],
   "source": [
    "import torch\n",
    "from torch.autograd import Variable\n",
    "import math\n",
    "import pandas as pd\n",
    "import numpy as np\n",
    "from sklearn.model_selection import train_test_split\n",
    "from sklearn.utils import shuffle\n",
    "import matplotlib.pyplot as plt"
   ]
  },
  {
   "cell_type": "markdown",
   "metadata": {
    "id": "dgdeprwQ2See"
   },
   "source": [
    "## Problem 1\n",
    "\n",
    "In this problem, you will implement a simple feed-forward neural network using PyTorch, a straight-forward and simple-to-pickup framework for quickly prototyping deep learning model. \n",
    "\n",
    "PyTorch provides 2 powerful things. First, a nice data structure called Tensor (basically a matrix, similar to Numpy ndarray). Tensor is optimized for matrix calculation and can be loaded to a GPU. Tensor is also implemented so that it's easy to calculate and pass back chains of gradients, which is extremely useful for backpropagation on neural network. Second, a nice inner mechanism called Autograd that nicely map variables involved a chain of calculations and efficiently calculate their gradients via the chain rule when needed. Read more here: https://towardsdatascience.com/pytorch-autograd-understanding-the-heart-of-pytorchs-magic-2686cd94ec95  \n",
    "\n",
    "You will train and evaluate the model on a simple dataset for classifying seeds. The dataset has 7 features and 3 labels. Refer to the example from the discussion session if needed. \n",
    "\n",
    "**In this problem, you are given a good amount of freedom in tweaking your choices in designing the network. As long as it's still a feed-forward network, it's fine. Accuracy does not matter as long as it's reasonable (like above 80%) but do try to achieve a high accuracy.**\n",
    "\n",
    "(Optional): the dataset provided to you is very simple. Instead, you can challenge yourself by trying more difficult datasets. Some datasets that you can loaded directly using PyTorch:\n",
    "- MNIST (Most famous dataset for getting into Deep Learning)\n",
    "- Fashion-MNIST\n",
    "- Kuzushiji-MNIST \n",
    "\n",
    "The datasets are available at https://pytorch.org/docs/stable/torchvision/datasets.html. You will get the same grade no matter what dataset you use. \n",
    "\n",
    "### Part a\n",
    "Firstly, load and inspect the dataset from \"seeds_dataset.csv\". Split them into a train set (90%) and a test set (10%). You should be quite comfortable with these operations by now. "
   ]
  },
  {
   "cell_type": "code",
   "execution_count": 18,
   "metadata": {
    "id": "3eztCAG02See"
   },
   "outputs": [],
   "source": [
    "#split data train = 90%\n",
    "data = pd.read_csv('seeds_dataset.csv')\n",
    "X = data.iloc[:,:-1].to_numpy(dtype=np.float32)\n",
    "y = data.iloc[:,-1].to_numpy(dtype=np.float32)\n",
    "X_train, X_test, y_train, y_test = train_test_split(X, y, test_size=0.1)"
   ]
  },
  {
   "cell_type": "markdown",
   "metadata": {
    "id": "_KpCu45p2See"
   },
   "source": [
    "### Part b \n",
    "Create a Python class for our neural network model. The network should have 1 input layer, at least 1 hidden layer, and 1 output layer. You are free to choose the size and the number of hidden layers (it may affect the performance so try tweaking around a bit), and the activation function (or no activation at all).\n",
    "\n",
    "Some popular activation functions that you can try:\n",
    "- Sigmoid (torch.sigmoid)\n",
    "- ReLU (torch.relu)\n",
    "- Tanh (torch.tanh)"
   ]
  },
  {
   "cell_type": "code",
   "execution_count": 22,
   "metadata": {
    "id": "uH6tsTUr2See"
   },
   "outputs": [],
   "source": [
    "#front forward network\n",
    "#in features equals original number of features\n",
    "\n",
    "class network(torch.nn.Module):\n",
    "    \n",
    "    def __init__(self):\n",
    "        super(network,self).__init__()\n",
    "        self.layer1 = torch.nn.Linear(in_features=7, out_features=40)\n",
    "        self.layer2 = torch.nn.Linear(in_features=40, out_features=40)\n",
    "        self.outputlayer = torch.nn.Linear(in_features=40, out_features=10)\n",
    "        \n",
    "    def forward(self,x):\n",
    "        x = torch.relu(self.layer1(x))\n",
    "        x = torch.relu(self.layer2(x))\n",
    "        x = self.outputlayer(x)\n",
    "        \n",
    "        return x"
   ]
  },
  {
   "cell_type": "markdown",
   "metadata": {
    "id": "ebDMfYee2See"
   },
   "source": [
    "### Part c \n",
    "Train the network using the train dataset. You are free to choose any suitable optimizer and loss function provided by PyTorch (or you can just use SGD optimizer and CrossEntropyLoss like we did in the discussion session for simplicity). After each epoch, record the current loss and the current accuracy. The current accuracy is obtained by evaluating the model on the train dataset. \n",
    "\n",
    "Some optimizers that you can try:\n",
    "- SGD\n",
    "- Adagrad\n",
    "- Adam\n",
    "\n",
    "https://pytorch.org/docs/stable/optim.html"
   ]
  },
  {
   "cell_type": "code",
   "execution_count": 23,
   "metadata": {
    "id": "VTCFkzmm2See"
   },
   "outputs": [],
   "source": [
    "epochs = 20\n",
    "learning_rate = 0.01\n",
    "batch_size = 32\n",
    "\n",
    "# Create the neural network\n",
    "network = network()\n",
    "# Define the loss function and the optimizer\n",
    "criterion = torch.nn.CrossEntropyLoss()\n",
    "optimizer = torch.optim.SGD(network.parameters(), lr=learning_rate) # Named SGD but actually mini-batch Gradient Descent\n",
    "\n",
    "# Set network to train\n",
    "network.train()\n",
    "\n",
    "training_size = len(X_train)\n",
    "num_batches = math.ceil(training_size/batch_size)\n",
    "\n",
    "#arrays for loss and accuracy values\n",
    "hold_loss = []\n",
    "hold_accuracy = []\n",
    "\n",
    "for epoch in range(epochs):\n",
    "    \n",
    "    X_train, y_train = shuffle(X_train, y_train)\n",
    "    network.eval()\n",
    "    \n",
    "    pred_train = torch.argmax(network(torch.tensor(X_train).float()), dim=1).numpy()\n",
    "    \n",
    "    for batch in range(num_batches):\n",
    "        \n",
    "        X_train_batch = torch.tensor(X_train[batch*batch_size:min(batch*batch_size+batch_size,training_size),:])\n",
    "        y_train_batch = torch.tensor(y_train[batch*batch_size:min(batch*batch_size+batch_size,training_size)], dtype=torch.long)\n",
    "        \n",
    "        optimizer.zero_grad()\n",
    "        \n",
    "        output = network(X_train_batch)\n",
    "        \n",
    "        loss = criterion(output,y_train_batch)\n",
    "        loss.backward()\n",
    "        \n",
    "        optimizer.step()\n",
    "        \n",
    "\n",
    "    hold_loss.append(loss.item())\n",
    "    hold_accuracy.append(np.sum(pred_train == y_train)/len(y_train))"
   ]
  },
  {
   "cell_type": "markdown",
   "metadata": {
    "id": "BoVUZHu02See"
   },
   "source": [
    "Plot how the loss and the accuracy change over the epochs. "
   ]
  },
  {
   "cell_type": "code",
   "execution_count": 24,
   "metadata": {
    "id": "R4T-5QDs2See"
   },
   "outputs": [
    {
     "data": {
      "image/png": "[encoded data removed]",
      "text/plain": [
       "<Figure size 432x288 with 1 Axes>"
      ]
     },
     "metadata": {
      "needs_background": "light"
     },
     "output_type": "display_data"
    },
    {
     "data": {
      "image/png": "[encoded data removed]",
      "text/plain": [
       "<Figure size 432x288 with 1 Axes>"
      ]
     },
     "metadata": {
      "needs_background": "light"
     },
     "output_type": "display_data"
    }
   ],
   "source": [
    "x_axis = np.linspace(1, epochs, num=epochs)\n",
    "\n",
    "plt.subplots()\n",
    "plt.plot(x_axis, hold_loss)\n",
    "plt.title('Loss Change over Epochs')\n",
    "\n",
    "plt.subplots()\n",
    "plt.plot(x_axis, hold_accuracy, 'C1')\n",
    "plt.title('Accuracy Change over Epochs')\n",
    "plt.show()"
   ]
  },
  {
   "cell_type": "markdown",
   "metadata": {
    "id": "bvFzNDRT2See"
   },
   "source": [
    "### Part d \n",
    "Evaluate the model on the test dataset. Print out the accuracy. Does this accuracy agrees with the training accuracy showed on the plot? Why may they be different?"
   ]
  },
  {
   "cell_type": "code",
   "execution_count": 237,
   "metadata": {
    "id": "t0eC-Wi32See"
   },
   "outputs": [
    {
     "name": "stdout",
     "output_type": "stream",
     "text": [
      "Accuracy:  0.8571428571428571\n"
     ]
    }
   ],
   "source": [
    "network.eval()\n",
    "pred_test = torch.argmax(network(torch.tensor(X_test).float()), dim=1).numpy()\n",
    "print(\"Accuracy: \", np.sum(pred_test == y_test)/len(y_test))"
   ]
  },
  {
   "cell_type": "markdown",
   "metadata": {},
   "source": [
    "This accuracy evaluated from the test dataset matches the training accuracy. In the training accuracy, as epochs increases, the accuracy appears to converge to 0.9. The accuracy above is similar at 0.85. There might be some differences due to the size of datasets and therefore, having less comparisons for accuracy (y_train is of size 189 and y_test is of size 21)"
   ]
  },
  {
   "cell_type": "markdown",
   "metadata": {
    "id": "iy6C2pFfyXIa"
   },
   "source": [
    "## Problem 2\n",
    "\n",
    "If you haven't done so already, please read Chapter 2 (on fairness) of the textbook."
   ]
  },
  {
   "cell_type": "markdown",
   "metadata": {
    "id": "pe6qfhRFyXIa"
   },
   "source": [
    "### Part a\n",
    "\n",
    "Import the 'semi_synthetic.csv' dataset. This dataset is a modified version of the UCI Credit card dataset (details [here](https://archive.ics.uci.edu/ml/datasets/default+of+credit+card+clients)). We added a new synthetic feature to this dataset called `LIMIT_BAL`. It is highly predictive for `SEX==2` but not at all for `SEX==1`. As it turns out, this causes issues with fairness where models rely too much on `LIMIT_BAL` and discriminate against `SEX==2`. We will try to mitigate this in terms of the fairness criterion 'Statistical Parity' as it's mentioned in the textbook."
   ]
  },
  {
   "cell_type": "code",
   "execution_count": 4,
   "metadata": {
    "id": "HaqdFHPvyXIa"
   },
   "outputs": [],
   "source": [
    "import pandas as pd\n",
    "\n",
    "data_semi = pd.read_csv('semi_synthetic.csv', header = 0)\n"
   ]
  },
  {
   "cell_type": "markdown",
   "metadata": {
    "id": "QJhtmsUHyXIa"
   },
   "source": [
    "Extract features from the dataset (all columns except last) and call it `X`. Extract last column and call it `Y`. Also extract the `SEX` column and call this `SF` (for sensitive feature). Split all of these arrays data into train and test sets. You can use `sklearn.model_selection.train_test_split` and 20% ratio for the test dataset. Pass `stratify=Y` to `train_test_split` if you're using it. This ensures that both test and train datasets have the same ratio of 0/1 labels."
   ]
  },
  {
   "cell_type": "code",
   "execution_count": 6,
   "metadata": {
    "id": "4RWhQl8zyXIa"
   },
   "outputs": [],
   "source": [
    "from sklearn.model_selection import train_test_split \n",
    "import numpy as np\n",
    "import random\n",
    "random.seed(2020)\n",
    "np.random.seed(2020)\n",
    "\n",
    "X = data_semi.iloc[:,:-1]\n",
    "Y = data_semi.iloc[:,-1]\n",
    "SF = data_semi.loc[:, ['SEX']]\n",
    "\n",
    "X_train, X_test, Y_train, Y_test, SF_train, SF_test = train_test_split(X, Y, SF, stratify = Y, test_size = 0.2)"
   ]
  },
  {
   "cell_type": "markdown",
   "metadata": {
    "id": "6_kwHg4SyXIa"
   },
   "source": [
    "Use a random forest classifier (whichever hyperparameters you want, you may leave it default) and train it using the train dataset (only `X_train` and `Y_train`. We will not use `SF_train` yet.)"
   ]
  },
  {
   "cell_type": "code",
   "execution_count": 7,
   "metadata": {
    "id": "YESO3KAfyXIa"
   },
   "outputs": [
    {
     "data": {
      "text/plain": [
       "RandomForestClassifier(bootstrap=True, ccp_alpha=0.0, class_weight=None,\n",
       "                       criterion='gini', max_depth=None, max_features='auto',\n",
       "                       max_leaf_nodes=None, max_samples=None,\n",
       "                       min_impurity_decrease=0.0, min_impurity_split=None,\n",
       "                       min_samples_leaf=1, min_samples_split=2,\n",
       "                       min_weight_fraction_leaf=0.0, n_estimators=100,\n",
       "                       n_jobs=None, oob_score=False, random_state=None,\n",
       "                       verbose=0, warm_start=False)"
      ]
     },
     "execution_count": 7,
     "metadata": {},
     "output_type": "execute_result"
    }
   ],
   "source": [
    "from sklearn.ensemble import RandomForestClassifier\n",
    "from sklearn.model_selection import RandomizedSearchCV\n",
    "from sklearn.model_selection import GridSearchCV\n",
    "\n",
    "#create random forest classifier\n",
    "rf = RandomForestClassifier()\n",
    "\n",
    "#fit mdoel to x_train and y_train\n",
    "rf.fit(X_train, Y_train)\n"
   ]
  },
  {
   "cell_type": "markdown",
   "metadata": {
    "id": "_U4MeVC3yXIa"
   },
   "source": [
    "### Part b\n",
    "\n",
    "Now we will consider the 'statistical parity' fairness metric on the test dataset. This basically means we compare the selection rates (i.e. predicted labels being 1) conditioned on sex and look at their difference/ratio. To do this, print 5 things: \n",
    "\n",
    "1. Overall selection rate (what percent is predicted as 1)\n",
    "2. Selection rate for `SEX==1`\n",
    "3. Selection rate for `SEX==2`\n",
    "4. Difference between 2. and 3.\n",
    "5. Ratio of 2. and 3.\n",
    "\n",
    "Note that we didn't use anything related to how accurate the model is."
   ]
  },
  {
   "cell_type": "code",
   "execution_count": 8,
   "metadata": {
    "id": "4qQcj-_PyXIa"
   },
   "outputs": [
    {
     "name": "stdout",
     "output_type": "stream",
     "text": [
      "1:  0.1525\n",
      "2:  0.1317365269461078\n",
      "3:  0.1657564172583288\n",
      "4:  0.034019890312220996\n",
      "5:  0.7947597391707524\n"
     ]
    }
   ],
   "source": [
    "import copy \n",
    "\n",
    "#predict using best model on x_test data\n",
    "Y_pred = rf.predict(X_test)\n",
    "Y_metrics = X_test.copy(deep=True)\n",
    "Y_metrics['Y_pred'] = Y_pred\n",
    "\n",
    "Y_1 = Y_metrics[Y_pred == 1]\n",
    "\n",
    "print(\"1: \", len(Y_1)/len(Y_pred))\n",
    "selection_rate1 = Y_pred[SF_test['SEX'] ==1].mean()\n",
    "print(\"2: \", selection_rate1)\n",
    "selection_rate2 = Y_pred[SF_test['SEX'] ==2].mean()\n",
    "print(\"3: \", selection_rate2)\n",
    "print(\"4: \", abs(selection_rate1 - selection_rate2))\n",
    "print(\"5: \", selection_rate1/selection_rate2)\n"
   ]
  },
  {
   "cell_type": "markdown",
   "metadata": {
    "id": "R1Yn6sXXyXIa"
   },
   "source": [
    "There is a new Python package called `fairlearn` that aims to help machine learning researchers use fairness techniques more easily. Go ahead and download this package (`pip install fairlearn` or `conda install fairlearn`). Note: the authors of `fairlearn` call 'statistical parity' from the textbook as 'demographic parity'.\n",
    "\n",
    "We will use `selection_rate`, `demographic_parity_difference`, `demographic_parity_ratio` from `fairlearn.metrics` to calculate 1., 4. and 5. above. The way to use these functions is: first argument `Y_test`, second argument `Y_prediction`, and for `demographic_parity_difference` and `demographic_parity_ratio` you need to give a keyword argument for the 'sensitive feature' by `sensitive_features=SF_test`.\n",
    "\n",
    "Use these three functions and confirm your earlier calculations for 1., 4. and 5."
   ]
  },
  {
   "cell_type": "code",
   "execution_count": 9,
   "metadata": {
    "id": "I27r9Mx1yXIa"
   },
   "outputs": [
    {
     "name": "stdout",
     "output_type": "stream",
     "text": [
      "1:  0.1525\n",
      "4:  0.034019890312220996\n",
      "5:  0.7947597391707524\n"
     ]
    }
   ],
   "source": [
    "from fairlearn.metrics import selection_rate, demographic_parity_difference, demographic_parity_ratio\n",
    "\n",
    "print(\"1: \", selection_rate(Y_test, Y_pred))\n",
    "print(\"4: \", demographic_parity_difference(Y_test, Y_pred, sensitive_features = SF_test))\n",
    "print(\"5: \", demographic_parity_ratio(Y_test, Y_pred, sensitive_features = SF_test))"
   ]
  },
  {
   "cell_type": "markdown",
   "metadata": {},
   "source": [
    "As apperaed, these calculations are the same above."
   ]
  },
  {
   "cell_type": "markdown",
   "metadata": {
    "id": "XViy0I5EyXIa"
   },
   "source": [
    "### Part c\n",
    "### Mitigating Unfairness with Giving Weights to Datapoints\n",
    "\n",
    "Now we are going to use the `GridSearch` function from `fairlearn.reductions` to try to mitigate this statistical parity discrepancy. This is one of the many ways to achieve this. What this function does is it gives higher weights to certain datapoints (determined by the sensitive feature) in order to change what the model learns. It automatically uses grid search to determine which weight should be given to `SEX==1` datapoints vs `SEX==2` datapoints (if you're interested you can read the source code). While it is called grid search, the space it searches is 1-dimensional. For our purposes, `GridSearch` takes four arguments: \n",
    "\n",
    "1. The model you defined above. This is a non-keyword argument.\n",
    "2. Constraint. This needs to be an object defined by `fairlearn`, the class we will be using is `fairlearn.reductions.DemographicParity`. It corresponds to minimizing the difference in selection rates (4. from above). This is a non-keyword argument.\n",
    "3. (Keyword argument) `grid_limit`. This determines the boundaries of the grid search. Basically, the `GridSearch` function will search the interval \\[-`grid_limit`,`grid_limit`\\] to find the weights. Choose this to be 0.8.\n",
    "3. (Keyword argument) `grid_size`. This determines how many points there will be in the grid search. Choose this to be 21.\n",
    "\n",
    "Just like `sklearn.model_selection.GridSearchCV` we have seen in HW1, `fairlearn.reductions.GridSearch` is also a wrapper, so you need to call `.fit()` on this wrapper (not the model directly). Training should be done in less than 5 minutes. In the end this wrapper will contain `grid_size` many models, each corresponding to a different weight for datapoints."
   ]
  },
  {
   "cell_type": "code",
   "execution_count": 10,
   "metadata": {
    "id": "67Y6ezsJyXIa"
   },
   "outputs": [
    {
     "name": "stdout",
     "output_type": "stream",
     "text": [
      "GridSearch(constraint_weight=0.5,\n",
      "           constraints=<fairlearn.reductions._moments.utility_parity.DemographicParity object at 0x7ffcd86fbc90>,\n",
      "           estimator=RandomForestClassifier(bootstrap=True, ccp_alpha=0.0,\n",
      "                                            class_weight=None, criterion='gini',\n",
      "                                            max_depth=None, max_features='auto',\n",
      "                                            max_leaf_nodes=None,\n",
      "                                            max_samples=None,\n",
      "                                            min_impurity_decrease=0.0,\n",
      "                                            min_impurity_split=None,\n",
      "                                            min_samples_leaf=1,\n",
      "                                            min_samples_split=2,\n",
      "                                            min_weight_fraction_leaf=0.0,\n",
      "                                            n_estimators=100, n_jobs=None,\n",
      "                                            oob_score=False, random_state=None,\n",
      "                                            verbose=0, warm_start=False),\n",
      "           grid=None, grid_limit=0.3, grid_offset=None, grid_size=21,\n",
      "           sample_weight_name='sample_weight',\n",
      "           selection_rule='tradeoff_optimization')\n"
     ]
    }
   ],
   "source": [
    "from fairlearn.reductions import GridSearch, DemographicParity\n",
    "\n",
    "#use model above\n",
    "gridsearch_wrapper = GridSearch(estimator = rf, constraints=DemographicParity(), grid_limit = 0.3, grid_size = 21)\n",
    "gridsearch_wrapper.fit(X_train, Y_train,\n",
    "          sensitive_features=SF_train)\n",
    "\n",
    "print(gridsearch_wrapper)"
   ]
  },
  {
   "cell_type": "markdown",
   "metadata": {
    "id": "15EO5RaTyXIa"
   },
   "source": [
    "The `GridSearch` wrapper object you trained has a field called `predictors_`. This gives a list of all the models trained in this grid search, which will be of size `grid_size`."
   ]
  },
  {
   "cell_type": "code",
   "execution_count": 11,
   "metadata": {
    "id": "B7HdpQm_yXIa"
   },
   "outputs": [],
   "source": [
    "predictions_sweep = [predictor.predict(X_test) for predictor in gridsearch_wrapper.predictors_] \n",
    "accuracy_sweep = [predictor.score(X_test, Y_test) for predictor in gridsearch_wrapper.predictors_] "
   ]
  },
  {
   "cell_type": "markdown",
   "metadata": {
    "id": "tXGkicwxyXIa"
   },
   "source": [
    "Notice that `predictions_sweep` is a 21 element list. Each of these elements is a numpy array that contains the predictions (`Y_pred`) for `X_test` for that particular model. Use `demographic_parity_difference` like you did above to find the difference in selection rates for each of these models and store these 'fairness metrics' in a numpy array (it too will be size 21)."
   ]
  },
  {
   "cell_type": "code",
   "execution_count": 12,
   "metadata": {
    "id": "SZ-bxFwmyXIa"
   },
   "outputs": [
    {
     "name": "stdout",
     "output_type": "stream",
     "text": [
      "[0.0365597898375053, 0.026702699773270805, 0.03017044634301655, 0.028423374831051035, 0.02974273034643829, 0.0231723492236873, 0.02577485272880936, 0.0271402268413162, 0.02877867577632437, 0.029469655523936905, 0.03177268775237227, 0.03095346328486817, 0.02659407719631346, 0.036987505834083584, 0.04181081544486903, 0.03823444629816594, 0.03531284937342294, 0.03091725575921575, 0.03325649551330359, 0.031710083772534536, 0.033374929161728045]\n"
     ]
    }
   ],
   "source": [
    "from sklearn.metrics import accuracy_score\n",
    "\n",
    "random.seed(2021)\n",
    "np.random.seed(2021)\n",
    "\n",
    "fairness_metrics = []\n",
    "accuracy_metrics = []\n",
    "\n",
    "for i in range(21):\n",
    "    fairness_metrics.append(demographic_parity_difference(Y_test, predictions_sweep[i], sensitive_features = SF_test))\n",
    "    #accuracy_metrics.append(accuracy_score(predictions_sweep[i], Y_test))\n",
    "\n",
    "#print(accuracy_metrics)\n",
    "#print(accuracy_sweep)\n",
    "print(fairness_metrics)"
   ]
  },
  {
   "cell_type": "markdown",
   "metadata": {
    "id": "ydkOWKGJyXIa"
   },
   "source": [
    "Plot the accuracy vs difference in selection rates for all these models in a scatter plot."
   ]
  },
  {
   "cell_type": "code",
   "execution_count": 13,
   "metadata": {
    "id": "zzW_0fq2yXIa"
   },
   "outputs": [
    {
     "data": {
      "image/png": "[encoded data removed]",
      "text/plain": [
       "<Figure size 432x288 with 1 Axes>"
      ]
     },
     "metadata": {
      "needs_background": "light"
     },
     "output_type": "display_data"
    },
    {
     "data": {
      "text/plain": [
       "<Figure size 432x288 with 0 Axes>"
      ]
     },
     "metadata": {},
     "output_type": "display_data"
    }
   ],
   "source": [
    "import matplotlib.pyplot as plt\n",
    "\n",
    "plt.scatter(accuracy_sweep, fairness_metrics)\n",
    "plt.title('Accuracy vs Difference in Selection Rates')\n",
    "\n",
    "#zoom into one of the clusters\n",
    "plt.axis([0.852,0.858,0.02,0.04])\n",
    "plt.xlabel('Accuracy')\n",
    "plt.ylabel('Difference in Select. Rate')\n",
    "plt.figure()\n",
    "plt.show()"
   ]
  },
  {
   "cell_type": "markdown",
   "metadata": {
    "id": "uLrO9mVFyXIa"
   },
   "source": [
    "### Part d \n",
    "\n",
    "Now calculate the *pareto front*: go over each (accuracy, difference in selection rates) pair and compare it to every other pair. If you find the first pair to have lower accuracy and higher difference in selection rate, discard it."
   ]
  },
  {
   "cell_type": "code",
   "execution_count": 14,
   "metadata": {
    "id": "4ElVQmrHyXIa"
   },
   "outputs": [],
   "source": [
    "#comparing indexes to every other for its condition for pareto front\n",
    "\n",
    "fairness_pareto = copy.deepcopy(fairness_metrics)\n",
    "accuracy_pareto = copy.deepcopy(accuracy_sweep)\n",
    "\n",
    "x = 0\n",
    "while x < len(fairness_pareto):\n",
    "    found=False\n",
    "    for y in range(len(fairness_pareto)):\n",
    "        if ((fairness_pareto[x] > fairness_pareto[y]) and (accuracy_pareto[x] < accuracy_pareto[y])):\n",
    "            fairness_pareto.pop(x)\n",
    "            accuracy_pareto.pop(x)\n",
    "            found=True\n",
    "            break\n",
    "    if not found:\n",
    "        x=x+1\n",
    "        "
   ]
  },
  {
   "cell_type": "markdown",
   "metadata": {
    "id": "23SaZvzSyXIa"
   },
   "source": [
    "* Plot the accuracy vs difference in selection rates for all the models the grid search in a scatter plot.\n",
    "* On the same plot, plot the accuracy vs difference in selection rates for the points on the pareto front. Make these points red."
   ]
  },
  {
   "cell_type": "code",
   "execution_count": 17,
   "metadata": {
    "id": "IGAsufEOyXIa"
   },
   "outputs": [
    {
     "data": {
      "image/png": "[encoded data removed]",
      "text/plain": [
       "<Figure size 432x288 with 1 Axes>"
      ]
     },
     "metadata": {
      "needs_background": "light"
     },
     "output_type": "display_data"
    },
    {
     "data": {
      "text/plain": [
       "<Figure size 432x288 with 0 Axes>"
      ]
     },
     "metadata": {},
     "output_type": "display_data"
    }
   ],
   "source": [
    "#plot both scatters\n",
    "plt.scatter(accuracy_sweep, fairness_metrics, label = 'Non-Parento Front')\n",
    "plt.plot(accuracy_pareto, fairness_pareto, 'o', color='red', label = 'Parento Front')\n",
    "plt.legend()\n",
    "plt.axis([0.852,0.858,0.02,0.04])\n",
    "plt.xlabel('Accuracy')\n",
    "plt.ylabel('Difference in Select. Rate')\n",
    "plt.title('Accuracy vs Difference in Sel. Rates (Pareto Front)')\n",
    "plt.figure()\n",
    "plt.show()"
   ]
  },
  {
   "cell_type": "markdown",
   "metadata": {
    "id": "hKA_zKOByXIa"
   },
   "source": [
    "Which one of these models would you choose to use? Why?"
   ]
  },
  {
   "cell_type": "markdown",
   "metadata": {},
   "source": [
    "Looking at the 4 models produced from the Pareto front, the model in the middle would probably be the best model as it has the best compromise between the difference in selection rate and accuracy. The point is about accuracy = 0.857 and difference in selection rate = 0.0250. It has the best tradeoff between difference in selection rate and accuracy of the Pareto Front."
   ]
  },
  {
   "cell_type": "markdown",
   "metadata": {
    "id": "K-qHCrNsyXIa"
   },
   "source": [
    "## Problem 3\n",
    "\n",
    "This problem builds on ideas from paper 2a in Module 1: “Against prediction: Sentencing, Policing, And Punishing In An Actuarial Age,” Chicago Public Law And Legal Theory Working Paper No. 94, Harcourt, 2005. \n",
    "\n",
    "Suppose we have two groups $A$ and $B$ of population sizes $n$ and $9n$. We find that under equal surveillance, group $A$’s offending rate is $2$ offenses per month per person and that of group $B$ is $1$ offense per person per month (See Figure on page 17 of the above paper). Equal surveillance means that out of a total of $10m$ monitors, $m$ monitors are assigned to group $A$ and $9m$ monitors are assigned to group $B$. The surveillance is $\\frac{m}{n}$ per capita for both groups. So, under equal surveillance, the combined offending rate over both groups is $11n$ per month. \n",
    "\n",
    "Suppose we want to bring down the overall offending rate by increasing the monitors for group $A$. In order to do that we collected some data and found that we could model the rate of decrease in offenses for group $A$ by a function as follows:\n",
    "\tIf we increase the per capita surveillance from $\\frac{m}{n}$ to $\\frac{m}{n} (1 + \\delta_A)$, the offending rate declines to $2e^{- \\alpha \\delta_A}$. ($\\alpha>0$)\n",
    "\n",
    "Similarly, we modeled the rate of increase in offenses for group $B$ by a function under reduced surveillance as follows:\n",
    "\tIf we decrease the per capita monitoring rate from $\\frac{m}{n}$ to $\\frac{m}{n} (1 - \\delta_B)$, the offending rate rises to $e^{ \\beta \\delta_B}$. ($\\beta>0$)\n",
    "\n",
    "How would you distribute the monitors so that \n",
    "\n",
    "**a)** Both groups had the same offending rate?\n",
    "\n",
    "**b)** The combined offending rate was minimized?\n",
    "\n",
    "\n",
    "Consider 3 different scenarios when $\\alpha > \\beta$, $\\alpha = \\beta$, and $\\alpha < \\beta$. \n",
    "\n",
    "**c)** For each of the scenarios, which of the above solutions would you prefer and why?\n",
    "\n",
    "**TIPS**:\n",
    "- For **part a** and **part b**, answer by calculating $\\delta_A$ and $\\delta_B$.\n",
    "- Try to set up equations from the given information. This problem mostly consists of algebra.\n",
    "- If you do it correctly, **part c** should makes sense immediately.\n"
   ]
  },
  {
   "cell_type": "markdown",
   "metadata": {
    "id": "IY2pVtwPyXIa"
   },
   "source": []
  },
  {
   "cell_type": "markdown",
   "metadata": {},
   "source": [
    "A.) For same offending rate:\n",
    "\n",
    "$2e^{- \\alpha \\delta_A}$ = $e^{ \\beta \\delta_B}$\n",
    "\n",
    "ln() both sides:\n",
    "\n",
    "$ln(2){ - \\alpha \\delta_A}$ = ${ \\beta \\delta_B}$\n",
    "\n",
    "${\\delta_B}$ = $\\frac{ln(2)}{\\beta}$ - $\\frac{\\alpha \\delta_A}{\\beta}$\n",
    "\n",
    "Using:\n",
    "\n",
    "$\\frac{m}{n} (1 + \\delta_A)(n)$ + $\\frac{m}{n} (1 - \\delta_B)(9n)$ = $10m$ total\n",
    "\n",
    "Plug in ${\\delta_B}$:\n",
    "\n",
    "${m}(1 + \\delta_A)$ + $ (1 - \\frac{ln(2)}{\\beta}$ - $\\frac{\\alpha \\delta_A}{\\beta})(9m)$ = $10m$ total\n",
    "\n",
    "Therefore \n",
    "\n",
    "${\\delta_A}$ = $\\frac{9ln(2)}{\\beta+9\\alpha}$\n",
    "\n",
    "and\n",
    "\n",
    "${\\delta_B}$ = $\\frac{ln(2)}{\\beta+9\\alpha}$"
   ]
  },
  {
   "cell_type": "markdown",
   "metadata": {},
   "source": [
    "B.) Minimize combined offending rate:\n",
    "\n",
    "Combined offending amount:\n",
    "\n",
    "$(n)2e^{- \\alpha \\delta_A}$ + $(9n)e^{ \\beta \\delta_B}$\n",
    "\n",
    "plugging in ${\\delta_A}$ = ${9\\delta_b}$ and taking its derivative in respect to ${\\delta_b}$\n",
    "\n",
    "$-2{\\alpha}e^{- 9\\alpha \\delta_B}$ + ${ \\beta}e^{ \\beta \\delta_B}$\n",
    "\n",
    "Setting to 0 to minimize:\n",
    "\n",
    "$-2{\\alpha}e^{- 9\\alpha \\delta_B}$ + ${ \\beta}e^{ \\beta \\delta_B}$ = 0\n",
    "\n",
    "$2{\\alpha}e^{- 9\\alpha \\delta_B}$ = ${ \\beta}e^{ \\beta \\delta_B}$\n",
    "\n",
    "putting all ${ \\beta \\delta_B}$ values to one side\n",
    "\n",
    "$\\frac{2\\alpha}{ \\beta}$ = ${ \\beta \\delta_B}$ + ${9\\alpha \\delta_B}$\n",
    "\n",
    "Therefore:\n",
    "\n",
    "${\\delta_B}$ = $\\frac{ln(\\frac{2\\alpha}{\\beta})}{\\beta + 9\\alpha}$\n",
    "\n",
    "${\\delta_B}$ = $\\frac{ln(2) + ln(\\frac{\\alpha}{\\beta})}{\\beta + 9\\alpha}$\n",
    "\n",
    "and\n",
    "\n",
    "${\\delta_A}$ = $\\frac{9ln(2) + 9ln(\\frac{\\alpha}{\\beta})}{\\beta + 9\\alpha}$\n",
    "\n",
    "\n",
    "\n",
    "\n",
    "\n",
    "\n",
    "\n"
   ]
  },
  {
   "cell_type": "markdown",
   "metadata": {},
   "source": [
    "C.)  if a = b:\n",
    "In part a, they would be the same as they both would deltas be a constant. In part b, if a = b, ln(a/b) = ln(1), which would make both deltas constant again, making these solutions to preform similarily.\n",
    "\n",
    "if a > b:\n",
    "In part b, if a > b, ln(a/b) would be larger than zero, making the deltas eventually become larger than the deltas in part a. In this case, both deltas will continue to increase. However, since delta b is negative in monitering rate, (1-delta b) the monitering rate will go down and vice verse for monitering rate of A. In part a, alpha increase at a higher rate than beta, making both deltas decreiase as alpha increases over beta because both variables are in the denomiator. In this case, offending rate is minmized more in part a.\n",
    "\n",
    "if b > a:\n",
    "In part b, if a > b, ln(a/b) would be smaller than zero, making the deltas eventually become smaller than the deltas in part a. In this case, both deltas will continue to decrease. This will increase monitor rate in B, while decrease in a due to b's negativity (1-delta b). In part a, alpha increase at a higher rate than beta, making both deltas decrease slower as beta increases over alpha . In this case, offending rate is minmized more in part b.\n",
    "\n",
    "In the case of fairness for all of these conditions, if the goal is to minimize offending rate, part a is better for a >b and part b is better in b > a. However, when a = b, it produces an equity between offending rates, which may be fairer\n",
    "\n"
   ]
  },
  {
   "cell_type": "markdown",
   "metadata": {},
   "source": []
  }
 ],
 "metadata": {
  "colab": {
   "name": "HW3.ipynb",
   "provenance": []
  },
  "kernelspec": {
   "display_name": "Python 3",
   "language": "python",
   "name": "python3"
  },
  "language_info": {
   "codemirror_mode": {
    "name": "ipython",
    "version": 3
   },
   "file_extension": ".py",
   "mimetype": "text/x-python",
   "name": "python",
   "nbconvert_exporter": "python",
   "pygments_lexer": "ipython3",
   "version": "3.7.6"
  }
 },
 "nbformat": 4,
 "nbformat_minor": 1
}

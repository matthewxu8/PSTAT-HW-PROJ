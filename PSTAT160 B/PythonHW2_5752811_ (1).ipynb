{
 "cells": [
  {
   "cell_type": "markdown",
   "metadata": {},
   "source": [
    "# Python Homework 2\n",
    "\n",
    "**Release date:** Friday January 29<br>\n",
    "**Due date:** Friday, __Frebruary 12 (!)__, at midnight via <font color=\"blue\">Gradescope</font> \n",
    "\n",
    "**Instruction:** Please upload your jupyter notebook on <font color=\"blue\">Gradescope</font> with filename __PythonHW2_YOURPERMNUMBER.ipynb__.\n"
   ]
  },
  {
   "cell_type": "markdown",
   "metadata": {},
   "source": [
    "Load some packages:"
   ]
  },
  {
   "cell_type": "code",
   "execution_count": 10,
   "metadata": {},
   "outputs": [],
   "source": [
    "import numpy as np\n",
    "import matplotlib.pyplot as plt\n",
    "import math"
   ]
  },
  {
   "cell_type": "markdown",
   "metadata": {},
   "source": [
    "## Problem 1 (10 Points)\n",
    "\n",
    "Consider the continuous-time __Registration Line Markov Chain__ from Example 2.13 (Lecture 7).\n",
    "\n",
    "1. Implement a simulation of this Markov chain on the time interval $[0,60]$. "
   ]
  },
  {
   "cell_type": "code",
   "execution_count": 72,
   "metadata": {},
   "outputs": [],
   "source": [
    "# from email this has a state space (0,1,2,3,4,5)\n",
    "# arrival rates of 1/4 and service rate of 1/5\n",
    "\n",
    "t_end = 60       # time interval [0, 60]\n",
    "S = []        # states\n",
    "T = [0]          # time of jump\n",
    "\n",
    "Q = np.array([\n",
    "    [-0.25,0.25,0,0,0],\n",
    "    [0.2,-0.45,0.25,0,0],\n",
    "    [0,0.2,-0.45,0.25,0],\n",
    "    [0,0,0.2,-0.45,0.25],\n",
    "    [0,0,0,0.2,-0.2]\n",
    "])\n",
    "\n",
    "p = np.array([\n",
    "    [0,1,0,0,0],\n",
    "    [4/9,0,5/9,0,0],\n",
    "    [0,4/9,0,5/9,0],\n",
    "    [0,0,4/9,0,5/9],\n",
    "    [0,0,0,1,0]\n",
    "])\n",
    "\n",
    "def get_next_state(s_i, Q):\n",
    "    T_ij = [np.random.exponential(1/q_ij) # waiting times\n",
    "            if q_ij > 0 else np.inf\n",
    "            for q_ij in Q[s_i]]           # iterate Q_ij \n",
    "    t_ij = min(T_ij)                      # shortest waiting time\n",
    "    s_j = np.argmin(T_ij)                 # corresponding state\n",
    "    return (s_j, t_ij)          \n",
    "\n",
    "s_i = 1                                   # initialize first state\n",
    "t = 0                                     # current time\n",
    "while t < t_end:                          # iterating until end time\n",
    "    s_j, t_ij = get_next_state(s_i, Q)    # move to next state\n",
    "    s_i = s_j                             # update the current state to the new state\n",
    "    t = t + t_ij                          # update the current time\n",
    "    S.append(s_i)                         # record each new state\n",
    "    T.append(t)                           # record the time when jumps happen\n",
    "    \n",
    "n = 2000\n",
    "X = np.linspace(0, t_end, n)\n",
    "\n",
    "# Matching the time line and states\n",
    "Y = [S[i]                     \n",
    "     for i in range(len(T)-1) \n",
    "     for x in X               \n",
    "     if T[i] <= x < T[i+1]    \n",
    "]\n"
   ]
  },
  {
   "cell_type": "markdown",
   "metadata": {},
   "source": [
    "2. Plot a trajectory of this Markov Chain on $[0,60]$ by using your code from 1.\n",
    "\n",
    "<i>Hint:</i> You can use the <tt>plt.hlines()</tt> command to plot horizontal lines (check also the documentation online)."
   ]
  },
  {
   "cell_type": "code",
   "execution_count": 73,
   "metadata": {},
   "outputs": [
    {
     "data": {
      "image/png": "[encoded data removed]",
      "text/plain": [
       "<Figure size 720x432 with 1 Axes>"
      ]
     },
     "metadata": {
      "needs_background": "light"
     },
     "output_type": "display_data"
    }
   ],
   "source": [
    "plt.figure(figsize=(10,6))\n",
    "plt.plot(X, Y, marker='.', markersize=1, linestyle='')\n",
    "plt.xlabel('t')\n",
    "plt.ylabel('State');"
   ]
  },
  {
   "cell_type": "markdown",
   "metadata": {},
   "source": [
    "3. Compute the transition function $P(t)$ at $t = \\pi$.\n",
    "\n",
    "*Hint:* Use a suitable function from the <tt>scipy.linalg</tt> package (check also the documentation online)."
   ]
  },
  {
   "cell_type": "code",
   "execution_count": 12,
   "metadata": {},
   "outputs": [
    {
     "data": {
      "text/plain": [
       "array([[0.55524989, 0.308565  , 0.10512926, 0.02554735, 0.00550851],\n",
       "       [0.246852  , 0.3925013 , 0.24489947, 0.08909819, 0.02664905],\n",
       "       [0.06728272, 0.19591958, 0.37967644, 0.24578083, 0.11134043],\n",
       "       [0.01308024, 0.05702284, 0.19662467, 0.39747023, 0.33580202],\n",
       "       [0.00225628, 0.01364431, 0.07125787, 0.26864162, 0.64419991]])"
      ]
     },
     "execution_count": 12,
     "metadata": {},
     "output_type": "execute_result"
    }
   ],
   "source": [
    "from scipy.linalg import expm\n",
    "\n",
    "def transition_F(t):\n",
    "    return expm(t*Q)\n",
    "\n",
    "transition_F(math.pi)"
   ]
  },
  {
   "cell_type": "markdown",
   "metadata": {},
   "source": [
    "4. Compute the stationary distribution of this continuous-time Markov chain.\n",
    "\n",
    "*Hint:* Use suitable functions from the <tt>numpy.linalg package</tt> (check also the documentation online)."
   ]
  },
  {
   "cell_type": "code",
   "execution_count": 65,
   "metadata": {},
   "outputs": [
    {
     "name": "stdout",
     "output_type": "stream",
     "text": [
      "[0.12184674 0.15230842 0.19038553 0.23798191 0.29747739]\n"
     ]
    }
   ],
   "source": [
    "q_transpose = np.transpose(Q)\n",
    "\n",
    "#use transpose of p to find eigen values and vectors\n",
    "eigenvalues, eigenvectors = np.linalg.eig(q_transpose)\n",
    "# find index of eigenvalue = 1\n",
    "idx = np.argmin(np.abs(eigenvalues - 1))\n",
    "w = np.real(eigenvectors[:, idx]).T\n",
    "# normalize eigenvector \n",
    "print(w/np.sum(w))"
   ]
  },
  {
   "cell_type": "markdown",
   "metadata": {},
   "source": [
    "## Problem 2 (10 Points)\n",
    "\n",
    "Multistate Markov models are used in medicine to model the course of diseases. A patient may advance into, or recover from, successively more severe stages of a disease until some terminal state. Each stage represents a state of an absorbing continuous-time Markov chain. \n",
    "\n",
    "Bartolomeo et al. (2011) develop such a model to study the progression of liver disease among patients diagnosed with cirrhosis of the liver. The general form of the infinitesimal generator matrix $Q$ for their three-parameter model is\n",
    "\n",
    "$$ Q = \\begin{pmatrix} -(q_{12} + q_{13}) & q_{12} & q_{13} \\\\ 0 & -q_{23} & q_{23} \\\\ 0 & 0 & 0 \\end{pmatrix}  $$\n",
    "\n",
    "where state 1 represents cirrhosis, state 2 denotes liver cancer, and state 3 is death."
   ]
  },
  {
   "cell_type": "markdown",
   "metadata": {},
   "source": [
    "1. Starting from the first stage (\"cirrhosis\"), estimate the mean time to death (i.e. ending up in stage 3) by running 100,000 simulations. Use the transition rates\n",
    "\n",
    "$$ q_{12} = 0.0151, \\quad q_{13} = 0.0071, \\quad q_{23} = 0.0284.$$"
   ]
  },
  {
   "cell_type": "code",
   "execution_count": 29,
   "metadata": {},
   "outputs": [
    {
     "data": {
      "text/plain": [
       "69.15973753623051"
      ]
     },
     "execution_count": 29,
     "metadata": {},
     "output_type": "execute_result"
    }
   ],
   "source": [
    "# WRITE YOUR OWN CODE HERE! FEEL FREE TO INSERT MORE CELLS!\n",
    "# ADD SOME COMMENTS TO YOUR CODE!\n",
    "trials = 100000\n",
    "simlist = []\n",
    "inital = 1\n",
    "\n",
    "for i in range(trials):\n",
    "    state = inital\n",
    "    t = 0\n",
    "    \n",
    "    while True:\n",
    "        if state == 1:\n",
    "            q12 = np.random.exponential(1/0.0151,1) #N for npr.exponential is inverse of rate, size\n",
    "            q13 = np.random.exponential(1/0.0071,1)\n",
    "        \n",
    "            if q12 < q13:\n",
    "                t = t+q12\n",
    "                state = 2\n",
    "            else:\n",
    "                t = t+q13\n",
    "                break\n",
    "        \n",
    "        if state == 2:\n",
    "            q23 = np.random.exponential(1/0.0284,1)\n",
    "            t = t+q23\n",
    "            break\n",
    "        \n",
    "    simlist.append(t)\n",
    "\n",
    "np.mean(simlist)\n",
    "\n"
   ]
  },
  {
   "cell_type": "markdown",
   "metadata": {},
   "source": [
    "2. Compare your approximation from 1. with the exact theoretical mean time to death (implement a suitable formula from class).  "
   ]
  },
  {
   "cell_type": "code",
   "execution_count": 26,
   "metadata": {},
   "outputs": [
    {
     "name": "stdout",
     "output_type": "stream",
     "text": [
      "68.99505138941758\n"
     ]
    }
   ],
   "source": [
    "q_12 = 0.0151\n",
    "q_13 = 0.0071\n",
    "q_23 = 0.0284\n",
    "\n",
    "#using a1 formula to find mean time of death\n",
    "a1 = (1/(q_12+q_13))+(q_12/(q_23*(q_12+q_13)))\n",
    "print(a1)"
   ]
  }
 ],
 "metadata": {
  "kernelspec": {
   "display_name": "Python 3",
   "language": "python",
   "name": "python3"
  },
  "language_info": {
   "codemirror_mode": {
    "name": "ipython",
    "version": 3
   },
   "file_extension": ".py",
   "mimetype": "text/x-python",
   "name": "python",
   "nbconvert_exporter": "python",
   "pygments_lexer": "ipython3",
   "version": "3.7.6"
  }
 },
 "nbformat": 4,
 "nbformat_minor": 2
}
